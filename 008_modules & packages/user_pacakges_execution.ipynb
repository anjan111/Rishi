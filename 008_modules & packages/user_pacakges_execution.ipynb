{
 "cells": [
  {
   "cell_type": "code",
   "execution_count": 2,
   "metadata": {},
   "outputs": [
    {
     "name": "stdout",
     "output_type": "stream",
     "text": [
      "['__builtins__', '__doc__', '__file__', '__name__', '__package__', '__path__', 'fun1', 'fun2', 'fun3', 'fun4', 'fun5', 'fun6', 'module1', 'module2', 'module3']\n",
      " path  :  ['package']\n"
     ]
    }
   ],
   "source": [
    "import package\n",
    "print dir(package)\n",
    "print \" path  : \",package.__path__"
   ]
  },
  {
   "cell_type": "code",
   "execution_count": 3,
   "metadata": {},
   "outputs": [
    {
     "name": "stdout",
     "output_type": "stream",
     "text": [
      "fun1\n",
      "fun2\n",
      "fun3\n",
      "fun4\n",
      "fun5\n",
      "fun6\n"
     ]
    }
   ],
   "source": [
    "import package\n",
    "package.fun1()\n",
    "package.fun2()\n",
    "package.fun3()\n",
    "package.fun4()\n",
    "package.fun5()\n",
    "package.fun6()"
   ]
  },
  {
   "cell_type": "code",
   "execution_count": 4,
   "metadata": {},
   "outputs": [
    {
     "name": "stdout",
     "output_type": "stream",
     "text": [
      "fun5\n",
      "fun6\n"
     ]
    }
   ],
   "source": [
    "from package import fun5,fun6\n",
    "fun5()\n",
    "fun6()"
   ]
  },
  {
   "cell_type": "code",
   "execution_count": 7,
   "metadata": {},
   "outputs": [],
   "source": [
    "import package"
   ]
  },
  {
   "cell_type": "code",
   "execution_count": 9,
   "metadata": {},
   "outputs": [
    {
     "name": "stdout",
     "output_type": "stream",
     "text": [
      "fun3\n",
      "fun4\n"
     ]
    }
   ],
   "source": [
    "import package.module2 as m\n",
    "m.fun3()\n",
    "m.fun4()"
   ]
  },
  {
   "cell_type": "code",
   "execution_count": 10,
   "metadata": {},
   "outputs": [
    {
     "name": "stdout",
     "output_type": "stream",
     "text": [
      "fun3\n",
      "fun4\n"
     ]
    }
   ],
   "source": [
    "import package.module2 \n",
    "package.module2 .fun3()\n",
    "package.module2 .fun4()"
   ]
  },
  {
   "cell_type": "code",
   "execution_count": null,
   "metadata": {},
   "outputs": [],
   "source": []
  }
 ],
 "metadata": {
  "kernelspec": {
   "display_name": "Python 2",
   "language": "python",
   "name": "python2"
  },
  "language_info": {
   "codemirror_mode": {
    "name": "ipython",
    "version": 2
   },
   "file_extension": ".py",
   "mimetype": "text/x-python",
   "name": "python",
   "nbconvert_exporter": "python",
   "pygments_lexer": "ipython2",
   "version": "2.7.16"
  }
 },
 "nbformat": 4,
 "nbformat_minor": 2
}
