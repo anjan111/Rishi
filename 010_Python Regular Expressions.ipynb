{
 "cells": [
  {
   "cell_type": "code",
   "execution_count": 1,
   "metadata": {},
   "outputs": [
    {
     "name": "stdout",
     "output_type": "stream",
     "text": [
      "<_sre.SRE_Match object at 0x00000000047D6098>\n",
      "language\n"
     ]
    }
   ],
   "source": [
    "# RegulaR expressions\n",
    "'''\n",
    "==>> Collections special Symbols  ( Pattrns , RE)\n",
    "'''\n",
    "# Data Extraction\n",
    "# Data mining \n",
    "# Patterns finding   & Deleting  & replacing \n",
    "\n",
    "import  re # regular Expression\n",
    "'''\n",
    "search() ---> Checking the pattern  with in seq of characters\n",
    "match() ---->  Checking the pattern at BO with in seq of characters\n",
    "findall() --->> To access all reular patterns\n",
    "sub()  ------>> Replace the regular exp by new daata\n",
    "compile() --->> to create the regular expresion object\n",
    "'''\n",
    "import re\n",
    "seq = \"Python Program Python language python Code\"\n",
    "print re.search(r'language',seq)\n",
    "print re.search(r'language',seq).group()"
   ]
  },
  {
   "cell_type": "code",
   "execution_count": 3,
   "metadata": {},
   "outputs": [
    {
     "name": "stdout",
     "output_type": "stream",
     "text": [
      "None\n"
     ]
    },
    {
     "ename": "AttributeError",
     "evalue": "'NoneType' object has no attribute 'group'",
     "output_type": "error",
     "traceback": [
      "\u001b[1;31m---------------------------------------------------------------------------\u001b[0m",
      "\u001b[1;31mAttributeError\u001b[0m                            Traceback (most recent call last)",
      "\u001b[1;32m<ipython-input-3-52dbc4263de4>\u001b[0m in \u001b[0;36m<module>\u001b[1;34m()\u001b[0m\n\u001b[0;32m      2\u001b[0m \u001b[0mseq\u001b[0m \u001b[1;33m=\u001b[0m \u001b[1;34m\"Python Program Python language python Code\"\u001b[0m\u001b[1;33m\u001b[0m\u001b[0m\n\u001b[0;32m      3\u001b[0m \u001b[1;32mprint\u001b[0m \u001b[0mre\u001b[0m\u001b[1;33m.\u001b[0m\u001b[0msearch\u001b[0m\u001b[1;33m(\u001b[0m\u001b[1;34mr'language123'\u001b[0m\u001b[1;33m,\u001b[0m\u001b[0mseq\u001b[0m\u001b[1;33m)\u001b[0m\u001b[1;33m\u001b[0m\u001b[0m\n\u001b[1;32m----> 4\u001b[1;33m \u001b[1;32mprint\u001b[0m \u001b[0mre\u001b[0m\u001b[1;33m.\u001b[0m\u001b[0msearch\u001b[0m\u001b[1;33m(\u001b[0m\u001b[1;34mr'language123'\u001b[0m\u001b[1;33m,\u001b[0m\u001b[0mseq\u001b[0m\u001b[1;33m)\u001b[0m\u001b[1;33m.\u001b[0m\u001b[0mgroup\u001b[0m\u001b[1;33m(\u001b[0m\u001b[1;33m)\u001b[0m\u001b[1;33m\u001b[0m\u001b[0m\n\u001b[0m",
      "\u001b[1;31mAttributeError\u001b[0m: 'NoneType' object has no attribute 'group'"
     ]
    }
   ],
   "source": [
    "import re\n",
    "seq = \"Python Program Python language python Code\"\n",
    "print re.search(r'language123',seq)\n",
    "print re.search(r'language123',seq).group()"
   ]
  },
  {
   "cell_type": "code",
   "execution_count": 4,
   "metadata": {},
   "outputs": [
    {
     "name": "stdout",
     "output_type": "stream",
     "text": [
      "The Pattern is not found\n"
     ]
    }
   ],
   "source": [
    "# wap print regular expression patter  / data  other  \n",
    "import re\n",
    "seq = \"Python Program Python language python Code\"\n",
    "if re.search(r'language123',seq) :\n",
    "    print re.search(r'language123',seq).group()\n",
    "else:\n",
    "    print \"The Pattern is not found\"\n",
    "\n"
   ]
  },
  {
   "cell_type": "code",
   "execution_count": 6,
   "metadata": {},
   "outputs": [
    {
     "name": "stdout",
     "output_type": "stream",
     "text": [
      "language\n"
     ]
    }
   ],
   "source": [
    "# wap print regular expression patter  / data  other  \n",
    "import re\n",
    "seq = \"Python Program Python language python Code\"\n",
    "if re.search(r'language',seq) :\n",
    "    print re.search(r'language',seq).group()\n",
    "else:\n",
    "    print \"The Pattern is not found\"\n"
   ]
  },
  {
   "cell_type": "code",
   "execution_count": 8,
   "metadata": {},
   "outputs": [
    {
     "name": "stdout",
     "output_type": "stream",
     "text": [
      "The Pattern is not found at BOS\n"
     ]
    }
   ],
   "source": [
    "# Match\n",
    "import re\n",
    "seq = \"Python Program Python language python Code\"\n",
    "if re.match(r'language',seq) :\n",
    "    print re.match(r'language',seq).group()\n",
    "else:\n",
    "    print \"The Pattern is not found at BOS\""
   ]
  },
  {
   "cell_type": "code",
   "execution_count": 9,
   "metadata": {},
   "outputs": [
    {
     "name": "stdout",
     "output_type": "stream",
     "text": [
      "Python\n"
     ]
    }
   ],
   "source": [
    "# Match\n",
    "import re\n",
    "seq = \"Python Program Python language python Code\"\n",
    "if re.match(r'Python',seq) :\n",
    "    print re.match(r'Python',seq).group()\n",
    "else:\n",
    "    print \"The Pattern is not found at BOS\""
   ]
  },
  {
   "cell_type": "code",
   "execution_count": 10,
   "metadata": {},
   "outputs": [
    {
     "name": "stdout",
     "output_type": "stream",
     "text": [
      "['Python', 'Python', 'Python']\n"
     ]
    }
   ],
   "source": [
    "# findall\n",
    "import re\n",
    "seq = \"Python Program Python language Python Code\"\n",
    "print re.findall(r'Python',seq)"
   ]
  },
  {
   "cell_type": "code",
   "execution_count": 13,
   "metadata": {},
   "outputs": [
    {
     "name": "stdout",
     "output_type": "stream",
     "text": [
      "Python Program Python language Python Code\n",
      "C  Program C  language C  Code\n",
      "Python Program Python language Python Code\n"
     ]
    }
   ],
   "source": [
    "# Replace\n",
    "import re\n",
    "seq = \"Python Program Python language Python Code\"\n",
    "print seq\n",
    "print re.sub(r'Python',\"C \" , seq)\n",
    "print seq"
   ]
  },
  {
   "cell_type": "code",
   "execution_count": 15,
   "metadata": {},
   "outputs": [
    {
     "name": "stdout",
     "output_type": "stream",
     "text": [
      "['Python', 'Python', 'Python']\n",
      "C  Program C  language C  Code\n",
      "Python\n",
      "Python\n"
     ]
    }
   ],
   "source": [
    "import re\n",
    "seq = \"Python Program Python language Python Code\"\n",
    "ptr_obj = re.compile(r'Python')\n",
    "print ptr_obj.findall(seq)\n",
    "print ptr_obj.sub(\"C \",seq)\n",
    "print ptr_obj.search(seq).group()\n",
    "print ptr_obj.match(seq).group()"
   ]
  },
  {
   "cell_type": "code",
   "execution_count": 4,
   "metadata": {},
   "outputs": [
    {
     "name": "stdout",
     "output_type": "stream",
     "text": [
      "['fan', 'f@n', 'f5n', 'fRn']\n",
      "<_sre.SRE_Match object at 0x00000000047FB168>\n",
      "None\n",
      "soc new 45 new gjh new jdj new \n"
     ]
    }
   ],
   "source": [
    "# special Characters --->> to create the patterns\n",
    "#   .  --->> to match any single character 0 -9  , a -z , A - Z , !@#$%^&*()(*&^%)\n",
    "import re\n",
    "seq = \"socfan45f@ngjhf5njdjfRn\"\n",
    "# access all regular pattrn start with f end with n and middle one is any one character\n",
    "print re.findall(r'f.n',seq)\n",
    "print re.search(r'f.n',seq)\n",
    "print re.match(r'f.n',seq)\n",
    "print re.sub(r'f.n',\" new \",seq)"
   ]
  },
  {
   "cell_type": "code",
   "execution_count": 6,
   "metadata": {},
   "outputs": [
    {
     "name": "stdout",
     "output_type": "stream",
     "text": [
      "['f5n', 'f1n']\n"
     ]
    }
   ],
   "source": [
    "# \\d --->> match only single digit\n",
    "import re\n",
    "seq = \"socfan45f@ngjhf5njdjf1n\"\n",
    "\n",
    "print re.findall(r'f\\dn',seq)\n"
   ]
  },
  {
   "cell_type": "code",
   "execution_count": 7,
   "metadata": {},
   "outputs": [
    {
     "name": "stdout",
     "output_type": "stream",
     "text": [
      "['fan', 'f@n', 'fRn']\n"
     ]
    }
   ],
   "source": [
    "# \\D --->> match only single character except digit\n",
    "import re\n",
    "seq = \"socfan45f@ngjhf5njdjfRn\"\n",
    "\n",
    "print re.findall(r'f\\Dn',seq)\n"
   ]
  },
  {
   "cell_type": "code",
   "execution_count": 9,
   "metadata": {},
   "outputs": [
    {
     "name": "stdout",
     "output_type": "stream",
     "text": [
      "['f n']\n"
     ]
    }
   ],
   "source": [
    "# \\s --->> match only single space\n",
    "import re\n",
    "seq = \"socfan45f@ngjhf5njdjf n fRn\"\n",
    "\n",
    "print re.findall(r'f\\sn',seq)\n"
   ]
  },
  {
   "cell_type": "code",
   "execution_count": 10,
   "metadata": {},
   "outputs": [
    {
     "name": "stdout",
     "output_type": "stream",
     "text": [
      "['fan', 'f@n', 'f5n', 'fRn']\n"
     ]
    }
   ],
   "source": [
    "# \\S --->> match only single character except space\n",
    "import re\n",
    "seq = \"socfan45f@ngjhf5njdjf n fRn\"\n",
    "\n",
    "print re.findall(r'f\\Sn',seq)\n"
   ]
  },
  {
   "cell_type": "code",
   "execution_count": 11,
   "metadata": {},
   "outputs": [
    {
     "name": "stdout",
     "output_type": "stream",
     "text": [
      "['fan', 'f5n', 'fRn']\n"
     ]
    }
   ],
   "source": [
    "# \\w --->> match only single alphabets or numarical\n",
    "import re\n",
    "seq = \"socfan45f@ngjhf5njdjf n fRn\"\n",
    "\n",
    "print re.findall(r'f\\wn',seq)\n"
   ]
  },
  {
   "cell_type": "code",
   "execution_count": 13,
   "metadata": {},
   "outputs": [
    {
     "name": "stdout",
     "output_type": "stream",
     "text": [
      "['f@n', 'f n']\n"
     ]
    }
   ],
   "source": [
    "# \\W --->> match only single special character\n",
    "import re\n",
    "seq = \"socfan45f@ngjhf5njdjf n fRn\"\n",
    "\n",
    "print re.findall(r'f\\Wn',seq)\n"
   ]
  },
  {
   "cell_type": "code",
   "execution_count": 14,
   "metadata": {},
   "outputs": [
    {
     "name": "stdout",
     "output_type": "stream",
     "text": [
      "['pyyyython', 'pyyython', 'python', 'pthon']\n"
     ]
    }
   ],
   "source": [
    "#  *  --->> preceeding character can repeate  0 or more than 0 times\n",
    "import re \n",
    "seq = \"pyyyython jjfj pyyython nfdgkkf python jfjgjk pthon\"\n",
    "print re.findall(r'py*thon',seq)"
   ]
  },
  {
   "cell_type": "code",
   "execution_count": 17,
   "metadata": {},
   "outputs": [
    {
     "name": "stdout",
     "output_type": "stream",
     "text": [
      "['pyyyython', 'pyyython', 'python']\n"
     ]
    }
   ],
   "source": [
    "#  +  --->> preceeding character can repeate  1 or more than 1 times\n",
    "import re \n",
    "seq = \"pyyyython jjfj pyyython nfdgkkf python jfjgjk pthon\"\n",
    "print re.findall(r'py+thon',seq)"
   ]
  },
  {
   "cell_type": "code",
   "execution_count": 18,
   "metadata": {},
   "outputs": [
    {
     "name": "stdout",
     "output_type": "stream",
     "text": [
      "['python', 'pthon']\n"
     ]
    }
   ],
   "source": [
    "#  ?  --->> preceeding character can repeate  1 or 0 time\n",
    "import re \n",
    "seq = \"pyyyython jjfj pyyython nfdgkkf python jfjgjk pthon\"\n",
    "print re.findall(r'py?thon',seq)"
   ]
  },
  {
   "cell_type": "code",
   "execution_count": 19,
   "metadata": {},
   "outputs": [
    {
     "name": "stdout",
     "output_type": "stream",
     "text": [
      "['pyyython']\n"
     ]
    }
   ],
   "source": [
    "# {number} --->> specific no of times \n",
    "import re \n",
    "seq = \"pyyyython jjfj pyyython nfdgkkf python jfjgjk pthon\"\n",
    "print re.findall(r'py{3}thon',seq)"
   ]
  },
  {
   "cell_type": "code",
   "execution_count": 20,
   "metadata": {},
   "outputs": [
    {
     "name": "stdout",
     "output_type": "stream",
     "text": [
      "['pyyyython', 'pyyython', 'pyyyyython', 'pyyyyyython']\n"
     ]
    }
   ],
   "source": [
    "# {m,n} --->> specific range\n",
    "import re \n",
    "seq = \"pyyyython jjfj pyyython nfdgkkf pyython pyyyyythonjfjgjk pyyyyyython\"\n",
    "print re.findall(r'py{3,6}thon',seq)"
   ]
  },
  {
   "cell_type": "code",
   "execution_count": 21,
   "metadata": {},
   "outputs": [
    {
     "name": "stdout",
     "output_type": "stream",
     "text": [
      "['fbn', 'f3n']\n",
      "['fbn', 'f@n', 'fln', 'f3n']\n"
     ]
    }
   ],
   "source": [
    "# [group of character]  --->> match only single character from the groupn\n",
    "import re\n",
    "seq = \"567fbnkfkljskgf@nkfdgflngfjgf3n\"\n",
    "print re.findall(r'f[b3]n',seq)\n",
    "print re.findall(r'f.n',seq)"
   ]
  },
  {
   "cell_type": "code",
   "execution_count": 22,
   "metadata": {},
   "outputs": [
    {
     "name": "stdout",
     "output_type": "stream",
     "text": [
      "['9876543411', '6548309876']\n"
     ]
    }
   ],
   "source": [
    "#wap find the phone numbers from a str\n",
    "seq = \"jjfhgjk9876543411gfdgj6548309876hgh\"\n",
    "print re.findall(r'\\d{10}',seq)"
   ]
  },
  {
   "cell_type": "code",
   "execution_count": null,
   "metadata": {},
   "outputs": [],
   "source": []
  }
 ],
 "metadata": {
  "kernelspec": {
   "display_name": "Python 2",
   "language": "python",
   "name": "python2"
  },
  "language_info": {
   "codemirror_mode": {
    "name": "ipython",
    "version": 2
   },
   "file_extension": ".py",
   "mimetype": "text/x-python",
   "name": "python",
   "nbconvert_exporter": "python",
   "pygments_lexer": "ipython2",
   "version": "2.7.16"
  }
 },
 "nbformat": 4,
 "nbformat_minor": 2
}
