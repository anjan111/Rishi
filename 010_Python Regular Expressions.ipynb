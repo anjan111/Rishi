{
 "cells": [
  {
   "cell_type": "code",
   "execution_count": 1,
   "metadata": {},
   "outputs": [
    {
     "name": "stdout",
     "output_type": "stream",
     "text": [
      "<_sre.SRE_Match object at 0x00000000047D6098>\n",
      "language\n"
     ]
    }
   ],
   "source": [
    "# RegulaR expressions\n",
    "'''\n",
    "==>> Collections special Symbols  ( Pattrns , RE)\n",
    "'''\n",
    "# Data Extraction\n",
    "# Data mining \n",
    "# Patterns finding   & Deleting  & replacing \n",
    "\n",
    "import  re # regular Expression\n",
    "'''\n",
    "search() ---> Checking the pattern  with in seq of characters\n",
    "match() ---->  Checking the pattern at BO with in seq of characters\n",
    "findall() --->> To access all reular patterns\n",
    "sub()  ------>> Replace the regular exp by new daata\n",
    "compile() --->> to create the regular expresion object\n",
    "'''\n",
    "import re\n",
    "seq = \"Python Program Python language python Code\"\n",
    "print re.search(r'language',seq)\n",
    "print re.search(r'language',seq).group()"
   ]
  },
  {
   "cell_type": "code",
   "execution_count": 3,
   "metadata": {},
   "outputs": [
    {
     "name": "stdout",
     "output_type": "stream",
     "text": [
      "None\n"
     ]
    },
    {
     "ename": "AttributeError",
     "evalue": "'NoneType' object has no attribute 'group'",
     "output_type": "error",
     "traceback": [
      "\u001b[1;31m---------------------------------------------------------------------------\u001b[0m",
      "\u001b[1;31mAttributeError\u001b[0m                            Traceback (most recent call last)",
      "\u001b[1;32m<ipython-input-3-52dbc4263de4>\u001b[0m in \u001b[0;36m<module>\u001b[1;34m()\u001b[0m\n\u001b[0;32m      2\u001b[0m \u001b[0mseq\u001b[0m \u001b[1;33m=\u001b[0m \u001b[1;34m\"Python Program Python language python Code\"\u001b[0m\u001b[1;33m\u001b[0m\u001b[0m\n\u001b[0;32m      3\u001b[0m \u001b[1;32mprint\u001b[0m \u001b[0mre\u001b[0m\u001b[1;33m.\u001b[0m\u001b[0msearch\u001b[0m\u001b[1;33m(\u001b[0m\u001b[1;34mr'language123'\u001b[0m\u001b[1;33m,\u001b[0m\u001b[0mseq\u001b[0m\u001b[1;33m)\u001b[0m\u001b[1;33m\u001b[0m\u001b[0m\n\u001b[1;32m----> 4\u001b[1;33m \u001b[1;32mprint\u001b[0m \u001b[0mre\u001b[0m\u001b[1;33m.\u001b[0m\u001b[0msearch\u001b[0m\u001b[1;33m(\u001b[0m\u001b[1;34mr'language123'\u001b[0m\u001b[1;33m,\u001b[0m\u001b[0mseq\u001b[0m\u001b[1;33m)\u001b[0m\u001b[1;33m.\u001b[0m\u001b[0mgroup\u001b[0m\u001b[1;33m(\u001b[0m\u001b[1;33m)\u001b[0m\u001b[1;33m\u001b[0m\u001b[0m\n\u001b[0m",
      "\u001b[1;31mAttributeError\u001b[0m: 'NoneType' object has no attribute 'group'"
     ]
    }
   ],
   "source": [
    "import re\n",
    "seq = \"Python Program Python language python Code\"\n",
    "print re.search(r'language123',seq)\n",
    "print re.search(r'language123',seq).group()"
   ]
  },
  {
   "cell_type": "code",
   "execution_count": 4,
   "metadata": {},
   "outputs": [
    {
     "name": "stdout",
     "output_type": "stream",
     "text": [
      "The Pattern is not found\n"
     ]
    }
   ],
   "source": [
    "# wap print regular expression patter  / data  other  \n",
    "import re\n",
    "seq = \"Python Program Python language python Code\"\n",
    "if re.search(r'language123',seq) :\n",
    "    print re.search(r'language123',seq).group()\n",
    "else:\n",
    "    print \"The Pattern is not found\"\n",
    "\n"
   ]
  },
  {
   "cell_type": "code",
   "execution_count": 6,
   "metadata": {},
   "outputs": [
    {
     "name": "stdout",
     "output_type": "stream",
     "text": [
      "language\n"
     ]
    }
   ],
   "source": [
    "# wap print regular expression patter  / data  other  \n",
    "import re\n",
    "seq = \"Python Program Python language python Code\"\n",
    "if re.search(r'language',seq) :\n",
    "    print re.search(r'language',seq).group()\n",
    "else:\n",
    "    print \"The Pattern is not found\"\n"
   ]
  },
  {
   "cell_type": "code",
   "execution_count": 8,
   "metadata": {},
   "outputs": [
    {
     "name": "stdout",
     "output_type": "stream",
     "text": [
      "The Pattern is not found at BOS\n"
     ]
    }
   ],
   "source": [
    "# Match\n",
    "import re\n",
    "seq = \"Python Program Python language python Code\"\n",
    "if re.match(r'language',seq) :\n",
    "    print re.match(r'language',seq).group()\n",
    "else:\n",
    "    print \"The Pattern is not found at BOS\""
   ]
  },
  {
   "cell_type": "code",
   "execution_count": 9,
   "metadata": {},
   "outputs": [
    {
     "name": "stdout",
     "output_type": "stream",
     "text": [
      "Python\n"
     ]
    }
   ],
   "source": [
    "# Match\n",
    "import re\n",
    "seq = \"Python Program Python language python Code\"\n",
    "if re.match(r'Python',seq) :\n",
    "    print re.match(r'Python',seq).group()\n",
    "else:\n",
    "    print \"The Pattern is not found at BOS\""
   ]
  },
  {
   "cell_type": "code",
   "execution_count": 10,
   "metadata": {},
   "outputs": [
    {
     "name": "stdout",
     "output_type": "stream",
     "text": [
      "['Python', 'Python', 'Python']\n"
     ]
    }
   ],
   "source": [
    "# findall\n",
    "import re\n",
    "seq = \"Python Program Python language Python Code\"\n",
    "print re.findall(r'Python',seq)"
   ]
  },
  {
   "cell_type": "code",
   "execution_count": 13,
   "metadata": {},
   "outputs": [
    {
     "name": "stdout",
     "output_type": "stream",
     "text": [
      "Python Program Python language Python Code\n",
      "C  Program C  language C  Code\n",
      "Python Program Python language Python Code\n"
     ]
    }
   ],
   "source": [
    "# Replace\n",
    "import re\n",
    "seq = \"Python Program Python language Python Code\"\n",
    "print seq\n",
    "print re.sub(r'Python',\"C \" , seq)\n",
    "print seq"
   ]
  },
  {
   "cell_type": "code",
   "execution_count": 15,
   "metadata": {},
   "outputs": [
    {
     "name": "stdout",
     "output_type": "stream",
     "text": [
      "['Python', 'Python', 'Python']\n",
      "C  Program C  language C  Code\n",
      "Python\n",
      "Python\n"
     ]
    }
   ],
   "source": [
    "import re\n",
    "seq = \"Python Program Python language Python Code\"\n",
    "ptr_obj = re.compile(r'Python')\n",
    "print ptr_obj.findall(seq)\n",
    "print ptr_obj.sub(\"C \",seq)\n",
    "print ptr_obj.search(seq).group()\n",
    "print ptr_obj.match(seq).group()"
   ]
  },
  {
   "cell_type": "code",
   "execution_count": null,
   "metadata": {},
   "outputs": [],
   "source": [
    "# special character  --> ?*+[]{}\\d\\D\\s\\S\\w\\W\n",
    "# 7 "
   ]
  }
 ],
 "metadata": {
  "kernelspec": {
   "display_name": "Python 2",
   "language": "python",
   "name": "python2"
  },
  "language_info": {
   "codemirror_mode": {
    "name": "ipython",
    "version": 2
   },
   "file_extension": ".py",
   "mimetype": "text/x-python",
   "name": "python",
   "nbconvert_exporter": "python",
   "pygments_lexer": "ipython2",
   "version": "2.7.16"
  }
 },
 "nbformat": 4,
 "nbformat_minor": 2
}
