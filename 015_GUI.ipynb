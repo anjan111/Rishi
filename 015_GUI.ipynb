{
 "cells": [
  {
   "cell_type": "code",
   "execution_count": null,
   "metadata": {},
   "outputs": [],
   "source": [
    "# #Create the window\n",
    "###### tkinter \n",
    "from tkinter import *\n",
    "window = Tk() # This is Tk class , which is used for to create window object\n",
    "window.title(\"Welcome to GUI application\")\n",
    "window.mainloop()"
   ]
  },
  {
   "cell_type": "code",
   "execution_count": null,
   "metadata": {},
   "outputs": [],
   "source": [
    "! pip install tkinter"
   ]
  },
  {
   "cell_type": "code",
   "execution_count": 4,
   "metadata": {},
   "outputs": [],
   "source": [
    "# creating the label on window\n",
    "from tkinter import *\n",
    "window = Tk() # This is Tk class , which is used for to create window object\n",
    "\n",
    "Lb1    = Label(window,text = \"Hello\",font =(\"Arial Bold\",50))\n",
    "Lb1.grid(column = 0 , row = 0)\n",
    "\n",
    "Lb2    = Label(window,text = \"Anjan Kumar\",font =(\"Arial Bold\",50))\n",
    "Lb2.grid(column = 0 , row = 1)\n",
    "\n",
    "Lb3    = Label(window,text = \"Suresh\",font =(\"Arial Bold\",50))\n",
    "Lb3.grid(column = 1 , row = 0)\n",
    "\n",
    "Lb4    = Label(window,text = \"Sir\",font =(\"Arial Bold\",50))\n",
    "Lb4.grid(column = 1 , row = 1)\n",
    "\n",
    "window.title(\"Welcome to GUI application\")\n",
    "window.mainloop()"
   ]
  },
  {
   "cell_type": "code",
   "execution_count": 7,
   "metadata": {},
   "outputs": [
    {
     "name": "stdout",
     "output_type": "stream",
     "text": [
      "Button is pressed   1   no of times\n",
      "Button is pressed   2   no of times\n"
     ]
    }
   ],
   "source": [
    "# creating a button on window\n",
    "var = 0# default global variable\n",
    "def task():\n",
    "    global var\n",
    "    var = var + 1\n",
    "    print \"Button is pressed  \",var,\"  no of times\"\n",
    "    \n",
    "from tkinter import *\n",
    "window = Tk() # This is Tk class , which is used for to create window object\n",
    "window.title(\"Welcome to GUI application\")\n",
    "\n",
    "Lb1    = Label(window,text = \"Created a Button object\",font =(\"Arial Bold\",50))\n",
    "Lb1.grid(column = 0 , row = 0)\n",
    "\n",
    "\n",
    "Btn  = Button(window,text = \"Click me\",bg = \"orange\",fg=\"red\",command =task)\n",
    "Btn.grid(column = 0 , row = 1)\n",
    "\n",
    "window.mainloop()"
   ]
  },
  {
   "cell_type": "code",
   "execution_count": 9,
   "metadata": {},
   "outputs": [
    {
     "name": "stdout",
     "output_type": "stream",
     "text": [
      "123\n",
      "123\n"
     ]
    }
   ],
   "source": [
    "var = 123 # default global \n",
    "def fun():\n",
    "    \n",
    "    #print var\n",
    "    var = 12 # local varaibl2\n",
    "print var\n",
    "fun()\n",
    "print var"
   ]
  },
  {
   "cell_type": "code",
   "execution_count": 13,
   "metadata": {},
   "outputs": [
    {
     "name": "stdout",
     "output_type": "stream",
     "text": [
      "123\n",
      "135\n"
     ]
    }
   ],
   "source": [
    "var1 = 123 # default global \n",
    "def fun():\n",
    "    global var1\n",
    "    #print var\n",
    "    var1 = var1+ 12 #  global varaibl2\n",
    "print var1\n",
    "fun()\n",
    "print var1"
   ]
  },
  {
   "cell_type": "code",
   "execution_count": 1,
   "metadata": {},
   "outputs": [],
   "source": [
    "# creating a button on window\n",
    "var = 0\n",
    "def task():\n",
    "    global var\n",
    "    var = var + 1\n",
    "    Text = \"Button is pressed  \"+ str(var)+ \"  no of times\"\n",
    "    Lb2.configure(text = Text )\n",
    "    \n",
    "from tkinter import *\n",
    "window = Tk() # This is Tk class , which is used for to create window object\n",
    "window.title(\"Welcome to GUI application\")\n",
    "Lb1    = Label(window,text = \"Created a Button object\",font =(\"Arial Bold\",50))\n",
    "Lb1.grid(column = 0 , row = 0)\n",
    "\n",
    "Btn  = Button(window,text = \"Click me\",bg = \"orange\",fg=\"red\",command =task)\n",
    "Btn.grid(column = 0 , row = 1)\n",
    "\n",
    "Lb2    = Label(window,text = \"Here it can display no times button pressed\",font =(\"Arial Bold\",50))\n",
    "Lb2.grid(column = 0 , row = 2)\n",
    "window.mainloop()"
   ]
  },
  {
   "cell_type": "code",
   "execution_count": 4,
   "metadata": {},
   "outputs": [],
   "source": [
    "# Entry Box creation\n",
    "def task():\n",
    "    global var\n",
    "    var = var + 1\n",
    "    Text = \"Entered data : \"+Ent.get()\n",
    "    Lb2.configure(text = Text )\n",
    "    \n",
    "    \n",
    "from tkinter import *\n",
    "window = Tk() # This is Tk class , which is used for to create window object\n",
    "window.title(\"Welcome to GUI application\")\n",
    "\n",
    "Lb1    = Label(window,text = \"Created a Button & entry object\",font =(\"Arial Bold\",50))\n",
    "Lb1.grid(column = 0 , row = 0)\n",
    "\n",
    "Ent = Entry(window,width = 30)\n",
    "Ent.grid(column = 0 , row = 1)\n",
    "\n",
    "Btn  = Button(window,text = \"Click me\",bg = \"orange\",fg=\"red\",command =task)\n",
    "Btn.grid(column = 1 , row = 1)\n",
    "\n",
    "Lb2    = Label(window,text = \"Here it can display Entered data\",font =(\"Arial Bold\",50))\n",
    "Lb2.grid(column = 0 , row = 2)\n",
    "\n",
    "window.mainloop()"
   ]
  },
  {
   "cell_type": "code",
   "execution_count": 12,
   "metadata": {},
   "outputs": [],
   "source": [
    "#combo box\n",
    "from tkinter import *\n",
    "from tkinter.ttk import *\n",
    "def task():\n",
    "    Text = \"Combo data : \"+combo.get()\n",
    "    Lb2.configure(text = Text )  \n",
    "\n",
    "window = Tk() # This is Tk class , which is used for to create window object\n",
    "window.title(\"Welcome to GUI application\")\n",
    "\n",
    "Lb1    = Label(window,text = \"Created a Button & Combo object\",font =(\"Arial Bold\",10))\n",
    "Lb1.grid(column = 0 , row = 0)\n",
    "\n",
    "Lb3    = Label(window,text = \"Select any one option : \",font =(\"Arial Bold\",10))\n",
    "Lb3.grid(column = 0 , row = 1)\n",
    "\n",
    "combo = Combobox(window)\n",
    "combo['values'] =(1,2,3,4,5,'text')\n",
    "combo.current()\n",
    "combo.grid(column = 1 , row =1)\n",
    "\n",
    "Btn  = Button(window,text = \"Click me\",command =task)\n",
    "Btn.grid(column = 0 , row = 2)\n",
    "\n",
    "Lb2    = Label(window,text = \"Here it can display Entered data\",font =(\"Arial Bold\",10))\n",
    "Lb2.grid(column = 0 , row = 3)\n",
    "\n",
    "window.mainloop()"
   ]
  },
  {
   "cell_type": "code",
   "execution_count": 6,
   "metadata": {},
   "outputs": [],
   "source": [
    "def task1():\n",
    "    a = float(Ent1.get())\n",
    "    b = float(Ent1.get())\n",
    "    Text = str(a) + \"  +  \" +  str(b)  +  \"  =  \", str(a+b)\n",
    "    Lb3.configure(text = Text )\n",
    "    \n",
    "def task2():\n",
    "    pass\n",
    "def task3():\n",
    "    pass\n",
    "def task4():\n",
    "    pass\n",
    "from tkinter import *\n",
    "window = Tk() # This is Tk class , which is used for to create window object\n",
    "window.title(\"Welcome to GUI CALCULATOR APP\")\n",
    "\n",
    "Lb1    = Label(window,text = \"A  :  \",font =(\"Arial Bold\",25))\n",
    "Lb1.grid(column = 0 , row = 0)\n",
    "\n",
    "Ent1 = Entry(window,width = 20)\n",
    "Ent1.grid(column = 1 , row = 0)\n",
    "\n",
    "Lb2    = Label(window,text = \"A  :  \",font =(\"Arial Bold\",25))\n",
    "Lb2.grid(column = 2 , row = 0)\n",
    "\n",
    "Ent2 = Entry(window,width = 20)\n",
    "Ent2.grid(column = 3 , row = 0)\n",
    "\n",
    "\n",
    "Btn1  = Button(window,text = \"+\",bg = \"orange\",fg=\"red\",command =task1)\n",
    "Btn1.grid(column = 0 , row = 1)\n",
    "\n",
    "Btn2  = Button(window,text = \"-\",bg = \"orange\",fg=\"red\",command =task2)\n",
    "Btn2.grid(column = 0 , row = 1)\n",
    "\n",
    "Btn3  = Button(window,text = \"*\",bg = \"orange\",fg=\"red\",command =task3)\n",
    "Btn3.grid(column = 0 , row = 1)\n",
    "\n",
    "Btn4  = Button(window,text = \"**\",bg = \"orange\",fg=\"red\",command =task4)\n",
    "Btn4.grid(column = 0 , row = 1)\n",
    "\n",
    "\n",
    "Lb3    = Label(window,text = \"Result  : \",font =(\"Arial Bold\",50))\n",
    "Lb3.grid(column = 0 , row = 3)\n",
    "\n",
    "window.mainloop()"
   ]
  },
  {
   "cell_type": "code",
   "execution_count": 5,
   "metadata": {},
   "outputs": [],
   "source": [
    "#check box\n",
    "from tkinter import *\n",
    "from tkinter.ttk import *\n",
    "def task():\n",
    "    Text = \"check data : \"+ str(chk_state.get())\n",
    "    Lb2.configure(text = Text )  \n",
    "\n",
    "window = Tk() # This is Tk class , which is used for to create window object\n",
    "window.title(\"Welcome to GUI application\")\n",
    "\n",
    "Lb1    = Label(window,text = \"Created a Button & Check object\",font =(\"Arial Bold\",10))\n",
    "Lb1.grid(column = 0 , row = 0)\n",
    "\n",
    "chk_state = BooleanVar()\n",
    "chk_state.set(True)\n",
    "\n",
    "chk1 = Checkbutton(window,text = \"Choose\",var = chk_state)\n",
    "chk1.grid(column = 0 , row = 1)\n",
    "\n",
    "\n",
    "Btn  = Button(window,text = \"Click me\",command =task)\n",
    "Btn.grid(column = 0 , row = 2)\n",
    "\n",
    "Lb2    = Label(window,text = \"Here it can display check box data \",font =(\"Arial Bold\",10))\n",
    "Lb2.grid(column = 0 , row = 3)\n",
    "\n",
    "window.mainloop()"
   ]
  },
  {
   "cell_type": "code",
   "execution_count": 2,
   "metadata": {},
   "outputs": [],
   "source": [
    "from tkinter import *\n",
    "from tkinter.ttk import *\n",
    "def task():\n",
    "    Text = \"Selected Radio Button : \"+ str(Selected.get())\n",
    "    Lb2.configure(text = Text )  \n",
    "window = Tk() # This is Tk class , which is used for to create window object\n",
    "window.title(\"Welcome to GUI application\")\n",
    "Lb1    = Label(window,text = \"Created a Button & Combo object\",font =(\"Arial Bold\",10))\n",
    "Lb1.grid(column = 0 , row = 0)\n",
    "\n",
    "Selected = IntVar()\n",
    "rad1 = Radiobutton(window,text = \" First \",value = 1 , variable = Selected)\n",
    "rad2 = Radiobutton(window,text = \"Second\",value = 2 , variable = Selected)\n",
    "rad3 = Radiobutton(window,text = \" Third \",value = 3 , variable = Selected)\n",
    "\n",
    "rad1.grid(column = 0 , row = 1)\n",
    "rad2.grid(column = 0 , row = 2)\n",
    "rad3.grid(column = 0 , row = 3)\n",
    "\n",
    "\n",
    "Btn  = Button(window,text = \"Click me\",command =task)\n",
    "Btn.grid(column = 0 , row = 4)\n",
    "\n",
    "Lb2    = Label(window,text = \"Selected Radio Button Display Here \",font =(\"Arial Bold\",10))\n",
    "Lb2.grid(column = 0 , row = 5)\n",
    "\n",
    "window.mainloop()"
   ]
  },
  {
   "cell_type": "code",
   "execution_count": 4,
   "metadata": {},
   "outputs": [],
   "source": [
    "#combo box\n",
    "from tkinter import *\n",
    "from tkinter.ttk import *\n",
    "def task():\n",
    "    Text = \"Combo data : \"+combo.get()\n",
    "    Lb2.configure(text = Text )  \n",
    "\n",
    "window = Tk() # This is Tk class , which is used for to create window object\n",
    "window.title(\"Welcome to GUI application\")\n",
    "\n",
    "Lb1    = Label(window,text = \"Created a Button & Combo object\",font =(\"Arial Bold\",10))\n",
    "Lb1.grid(column = 0 , row = 0)\n",
    "\n",
    "Lb3    = Label(window,text = \"Select any one option : \",font =(\"Arial Bold\",10))\n",
    "Lb3.grid(column = 0 , row = 1)\n",
    "\n",
    "combo = Combobox(window)\n",
    "combo['values'] =(1,2,3,4,5,'text')\n",
    "combo.current()\n",
    "combo.grid(column = 1 , row =1)\n",
    "\n",
    "Btn  = Button(window,text = \"Click me\",command =task)\n",
    "Btn.grid(column = 0 , row = 2)\n",
    "\n",
    "Lb2    = Label(window,text = \"Here it can display Entered data\",font =(\"Arial Bold\",10))\n",
    "Lb2.grid(column = 0 , row = 3)\n",
    "\n",
    "window.mainloop()"
   ]
  },
  {
   "cell_type": "code",
   "execution_count": null,
   "metadata": {},
   "outputs": [],
   "source": []
  }
 ],
 "metadata": {
  "kernelspec": {
   "display_name": "Python 2",
   "language": "python",
   "name": "python2"
  },
  "language_info": {
   "codemirror_mode": {
    "name": "ipython",
    "version": 2
   },
   "file_extension": ".py",
   "mimetype": "text/x-python",
   "name": "python",
   "nbconvert_exporter": "python",
   "pygments_lexer": "ipython2",
   "version": "2.7.16"
  }
 },
 "nbformat": 4,
 "nbformat_minor": 2
}
