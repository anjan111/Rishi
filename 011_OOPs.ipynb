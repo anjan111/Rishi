{
 "cells": [
  {
   "cell_type": "code",
   "execution_count": 1,
   "metadata": {},
   "outputs": [
    {
     "name": "stdout",
     "output_type": "stream",
     "text": [
      "88135496\n",
      "<__main__.Class_Name instance at 0x000000000540D748>\n",
      "<type 'instance'>\n"
     ]
    }
   ],
   "source": [
    "# create a sample class and sample object\n",
    "\n",
    "# creating a class\n",
    "class  Class_Name():\n",
    "    '''\n",
    "    Attributes\n",
    "    varibles\n",
    "    Functions\n",
    "    '''\n",
    "# object creation\n",
    "obj = Class_Name() \n",
    "print id(obj)\n",
    "print obj\n",
    "print type(obj)"
   ]
  },
  {
   "cell_type": "code",
   "execution_count": 2,
   "metadata": {},
   "outputs": [
    {
     "name": "stdout",
     "output_type": "stream",
     "text": [
      "88160840\n",
      "<__main__.Class_Name instance at 0x0000000005413A48>\n",
      "<type 'instance'>\n",
      "**********\n",
      "88160712\n",
      "<__main__.Class_Name instance at 0x00000000054139C8>\n",
      "<type 'instance'>\n",
      "**********\n",
      "88160904\n",
      "<__main__.Class_Name instance at 0x0000000005413A88>\n",
      "<type 'instance'>\n",
      "**********\n"
     ]
    }
   ],
   "source": [
    "# create a sample class and sample object\n",
    "\n",
    "# creating a class\n",
    "class  Class_Name():\n",
    "    '''\n",
    "    Attributes\n",
    "    varibles\n",
    "    Functions\n",
    "    '''\n",
    "# object creation\n",
    "obj1 = Class_Name() \n",
    "print id(obj1)\n",
    "print obj1\n",
    "print type(obj1)\n",
    "print \"**********\"\n",
    "obj2 = Class_Name() \n",
    "print id(obj2)\n",
    "print obj2\n",
    "print type(obj2)\n",
    "print \"**********\"\n",
    "obj3 = Class_Name() \n",
    "print id(obj3)\n",
    "print obj3\n",
    "print type(obj3)\n",
    "print \"**********\""
   ]
  },
  {
   "cell_type": "code",
   "execution_count": 3,
   "metadata": {},
   "outputs": [
    {
     "data": {
      "text/plain": [
       "88160904"
      ]
     },
     "execution_count": 3,
     "metadata": {},
     "output_type": "execute_result"
    }
   ],
   "source": [
    "int(0x5413A88)"
   ]
  },
  {
   "cell_type": "code",
   "execution_count": 11,
   "metadata": {},
   "outputs": [
    {
     "name": "stdout",
     "output_type": "stream",
     "text": [
      "82108768\n",
      "1000000\n",
      "<type 'int'>\n",
      "**********\n",
      "82108768\n",
      "1000000\n",
      "<type 'int'>\n",
      "**********\n",
      "82108768\n",
      "1000000\n",
      "<type 'int'>\n",
      "**********\n",
      "82110400\n",
      "1000\n",
      "<type 'int'>\n",
      "**********\n",
      "82108624\n",
      "1000\n",
      "<type 'int'>\n",
      "**********\n",
      "82110304\n",
      "1000\n",
      "<type 'int'>\n",
      "**********\n"
     ]
    }
   ],
   "source": [
    "# create a sample class and sample object\n",
    "\n",
    "# creating a class\n",
    "class  Class_Name():\n",
    "    var  = 1000000\n",
    "    \n",
    "# object creation\n",
    "obj1 = Class_Name() \n",
    "print id(obj1.var)\n",
    "print obj1.var\n",
    "print type(obj1.var)\n",
    "print \"**********\"\n",
    "obj2 = Class_Name()\n",
    "print id(obj2.var)\n",
    "print obj2.var\n",
    "print type(obj2.var)\n",
    "print \"**********\"\n",
    "obj3 = Class_Name() \n",
    "print id(obj3.var)\n",
    "print obj3.var\n",
    "print type(obj3.var)\n",
    "print \"**********\"\n",
    "\n",
    "\n",
    "obj1.var = 1000\n",
    "obj2.var = 1000\n",
    "obj3.var = 1000\n",
    "print id(obj1.var)\n",
    "print obj1.var\n",
    "print type(obj1.var)\n",
    "print \"**********\"\n",
    "print id(obj2.var)\n",
    "print obj2.var\n",
    "print type(obj2.var)\n",
    "print \"**********\"\n",
    "print id(obj3.var)\n",
    "print obj3.var\n",
    "print type(obj3.var)\n",
    "print \"**********\""
   ]
  },
  {
   "cell_type": "code",
   "execution_count": 10,
   "metadata": {},
   "outputs": [
    {
     "name": "stdout",
     "output_type": "stream",
     "text": [
      "82108960\n",
      "82108576\n",
      "82110448\n"
     ]
    }
   ],
   "source": [
    "a =  456\n",
    "b = 456\n",
    "c = 456\n",
    "print id(a)\n",
    "print id(b)\n",
    "print id(c)"
   ]
  },
  {
   "cell_type": "code",
   "execution_count": 2,
   "metadata": {},
   "outputs": [
    {
     "name": "stdout",
     "output_type": "stream",
     "text": [
      "object details :  <__main__.Class_name instance at 0x0000000004EE8908>\n",
      "arg1 at method1 :  <__main__.Class_name instance at 0x0000000004EE8908>\n",
      "arg2 at method2 :  <__main__.Class_name instance at 0x0000000004EE8908>\n"
     ]
    }
   ],
   "source": [
    "# create a method in class\n",
    "class Class_name():\n",
    "    def method1(arg1):\n",
    "        print\"arg1 at method1 : \",arg1\n",
    "    def method2(arg2):\n",
    "        print\"arg2 at method2 : \",arg2\n",
    "obj = Class_name()\n",
    "print \"object details : \",obj\n",
    "obj.method1()\n",
    "obj.method2()"
   ]
  },
  {
   "cell_type": "code",
   "execution_count": 3,
   "metadata": {},
   "outputs": [
    {
     "name": "stdout",
     "output_type": "stream",
     "text": [
      "object details :  <__main__.Class_name instance at 0x0000000004EE8BC8>\n",
      "arg1 at method1 :  <__main__.Class_name instance at 0x0000000004EE8BC8>\n",
      "arg2 at method2 :  <__main__.Class_name instance at 0x0000000004EE8BC8>\n",
      "self a  :  123\n",
      "self b  :  890\n"
     ]
    }
   ],
   "source": [
    "# create a method in class\n",
    "class Class_name():\n",
    "    def method1(self,a = None ,b =None):\n",
    "        print\"arg1 at method1 : \",self\n",
    "        self.a = a\n",
    "        self.b = b\n",
    "    def method2(self):\n",
    "        print\"arg2 at method2 : \",self\n",
    "        print \"self a  : \",self.a\n",
    "        print \"self b  : \",self.b\n",
    "obj = Class_name()\n",
    "print \"object details : \",obj\n",
    "obj.method1(123,890)\n",
    "obj.method2()"
   ]
  },
  {
   "cell_type": "code",
   "execution_count": 6,
   "metadata": {},
   "outputs": [
    {
     "name": "stdout",
     "output_type": "stream",
     "text": [
      "object details :  <__main__.Class_name instance at 0x0000000004EE8F08>\n",
      "arg1 at method1 :  <__main__.Class_name instance at 0x0000000004EE8F08>\n",
      "arg2 at method2 :  <__main__.Class_name instance at 0x0000000004EE8F08>\n",
      "self a  :  123\n",
      "self b  :  890\n",
      "568\n",
      "568\n"
     ]
    },
    {
     "ename": "NameError",
     "evalue": "name 'self' is not defined",
     "output_type": "error",
     "traceback": [
      "\u001b[1;31m---------------------------------------------------------------------------\u001b[0m",
      "\u001b[1;31mNameError\u001b[0m                                 Traceback (most recent call last)",
      "\u001b[1;32m<ipython-input-6-46ecb23fe8cf>\u001b[0m in \u001b[0;36m<module>\u001b[1;34m()\u001b[0m\n\u001b[0;32m     18\u001b[0m \u001b[1;33m\u001b[0m\u001b[0m\n\u001b[0;32m     19\u001b[0m \u001b[1;32mprint\u001b[0m \u001b[0mvar\u001b[0m\u001b[1;33m\u001b[0m\u001b[0m\n\u001b[1;32m---> 20\u001b[1;33m \u001b[1;32mprint\u001b[0m \u001b[0mself\u001b[0m\u001b[1;33m.\u001b[0m\u001b[0ma\u001b[0m\u001b[1;33m\u001b[0m\u001b[0m\n\u001b[0m",
      "\u001b[1;31mNameError\u001b[0m: name 'self' is not defined"
     ]
    }
   ],
   "source": [
    "# create a method in class\n",
    "class Class_name():\n",
    "    def method1(self,a = None ,b =None):\n",
    "        print\"arg1 at method1 : \",self\n",
    "        global var\n",
    "        var = 568\n",
    "        self.a = a\n",
    "        self.b = b\n",
    "    def method2(self):\n",
    "        print\"arg2 at method2 : \",self\n",
    "        print \"self a  : \",self.a\n",
    "        print \"self b  : \",self.b\n",
    "        print var\n",
    "obj = Class_name()\n",
    "print \"object details : \",obj\n",
    "obj.method1(123,890)\n",
    "obj.method2()\n",
    "print var\n"
   ]
  },
  {
   "cell_type": "code",
   "execution_count": 7,
   "metadata": {},
   "outputs": [
    {
     "name": "stdout",
     "output_type": "stream",
     "text": [
      "object created \n",
      "object created \n",
      "object deleted \n",
      "object deleted \n"
     ]
    }
   ],
   "source": [
    "class Class_Name():\n",
    "    def __init__(self):  # constructor\n",
    "        print \"object created \"\n",
    "    def __del__(self): # distructor \n",
    "        print \"object deleted \"\n",
    "obj1 =  Class_Name()\n",
    "obj2 = Class_Name()\n",
    "\n",
    "del obj2\n",
    "del  obj1"
   ]
  },
  {
   "cell_type": "code",
   "execution_count": 1,
   "metadata": {},
   "outputs": [
    {
     "name": "stdout",
     "output_type": "stream",
     "text": [
      "123\n"
     ]
    }
   ],
   "source": [
    "# Not Data Hidiing \n",
    "class Class_name():\n",
    "    var =  123  # public variable \n",
    "obj = Class_name()\n",
    "print obj.var"
   ]
  },
  {
   "cell_type": "code",
   "execution_count": 2,
   "metadata": {},
   "outputs": [
    {
     "ename": "AttributeError",
     "evalue": "Class_name instance has no attribute '__var'",
     "output_type": "error",
     "traceback": [
      "\u001b[1;31m---------------------------------------------------------------------------\u001b[0m",
      "\u001b[1;31mAttributeError\u001b[0m                            Traceback (most recent call last)",
      "\u001b[1;32m<ipython-input-2-3f2602d6cb23>\u001b[0m in \u001b[0;36m<module>\u001b[1;34m()\u001b[0m\n\u001b[0;32m      3\u001b[0m     \u001b[0m__var\u001b[0m \u001b[1;33m=\u001b[0m  \u001b[1;36m123\u001b[0m  \u001b[1;31m# private variable\u001b[0m\u001b[1;33m\u001b[0m\u001b[0m\n\u001b[0;32m      4\u001b[0m \u001b[0mobj\u001b[0m \u001b[1;33m=\u001b[0m \u001b[0mClass_name\u001b[0m\u001b[1;33m(\u001b[0m\u001b[1;33m)\u001b[0m\u001b[1;33m\u001b[0m\u001b[0m\n\u001b[1;32m----> 5\u001b[1;33m \u001b[1;32mprint\u001b[0m \u001b[0mobj\u001b[0m\u001b[1;33m.\u001b[0m\u001b[0m__var\u001b[0m\u001b[1;33m\u001b[0m\u001b[0m\n\u001b[0m",
      "\u001b[1;31mAttributeError\u001b[0m: Class_name instance has no attribute '__var'"
     ]
    }
   ],
   "source": [
    "#  Data Hidiing \n",
    "class Class_name():\n",
    "    __var =  123  # private variable \n",
    "obj = Class_name()\n",
    "print obj.__var"
   ]
  },
  {
   "cell_type": "code",
   "execution_count": null,
   "metadata": {},
   "outputs": [],
   "source": [
    "# data encapulation\n",
    "'''\n",
    "==>> Even the attribute is private we can access outside of the class\n",
    "'''\n",
    "class Class_name():\n",
    "    __var =  123  # private variable \n",
    "obj = Class_name()\n",
    "print obj._Class_name__var"
   ]
  },
  {
   "cell_type": "code",
   "execution_count": 3,
   "metadata": {},
   "outputs": [
    {
     "name": "stdout",
     "output_type": "stream",
     "text": [
      "two arguments\n"
     ]
    },
    {
     "ename": "TypeError",
     "evalue": "method() takes exactly 3 arguments (2 given)",
     "output_type": "error",
     "traceback": [
      "\u001b[1;31m---------------------------------------------------------------------------\u001b[0m",
      "\u001b[1;31mTypeError\u001b[0m                                 Traceback (most recent call last)",
      "\u001b[1;32m<ipython-input-3-030fe9b8e25a>\u001b[0m in \u001b[0;36m<module>\u001b[1;34m()\u001b[0m\n\u001b[0;32m     10\u001b[0m \u001b[0mobj\u001b[0m \u001b[1;33m=\u001b[0m  \u001b[0mClass_name\u001b[0m\u001b[1;33m(\u001b[0m\u001b[1;33m)\u001b[0m\u001b[1;33m\u001b[0m\u001b[0m\n\u001b[0;32m     11\u001b[0m \u001b[0mobj\u001b[0m\u001b[1;33m.\u001b[0m\u001b[0mmethod\u001b[0m\u001b[1;33m(\u001b[0m\u001b[1;36m10\u001b[0m\u001b[1;33m,\u001b[0m\u001b[1;36m20\u001b[0m\u001b[1;33m)\u001b[0m\u001b[1;33m\u001b[0m\u001b[0m\n\u001b[1;32m---> 12\u001b[1;33m \u001b[0mobj\u001b[0m\u001b[1;33m.\u001b[0m\u001b[0mmethod\u001b[0m\u001b[1;33m(\u001b[0m\u001b[1;36m100\u001b[0m\u001b[1;33m)\u001b[0m\u001b[1;33m\u001b[0m\u001b[0m\n\u001b[0m\u001b[0;32m     13\u001b[0m \u001b[0mobj\u001b[0m\u001b[1;33m.\u001b[0m\u001b[0mmethod\u001b[0m\u001b[1;33m(\u001b[0m\u001b[1;33m)\u001b[0m\u001b[1;33m\u001b[0m\u001b[0m\n",
      "\u001b[1;31mTypeError\u001b[0m: method() takes exactly 3 arguments (2 given)"
     ]
    }
   ],
   "source": [
    "# method Overloading  is not supported \n",
    "#method overridding is supported\n",
    "class Class_name():\n",
    "    def method(self):\n",
    "        print \"No arguments\"\n",
    "    def method(self, var):\n",
    "        print(\"single argument\")\n",
    "    def method(self,a,b):\n",
    "        print\"two arguments\"\n",
    "\n",
    "obj =  Class_name()\n",
    "obj.method(10,20)\n",
    "obj.method(100)\n",
    "obj.method()"
   ]
  },
  {
   "cell_type": "code",
   "execution_count": 4,
   "metadata": {},
   "outputs": [
    {
     "name": "stdout",
     "output_type": "stream",
     "text": [
      "two arguments\n",
      "10\n",
      "20\n",
      "two arguments\n",
      "100\n",
      "None\n",
      "two arguments\n",
      "None\n",
      "None\n"
     ]
    }
   ],
   "source": [
    "# method Overloading  is not supported \n",
    "#method overridding is supported\n",
    "class Class_name():\n",
    "    def method(self):\n",
    "        print \"No arguments\"\n",
    "    def method(self, var):\n",
    "        print(\"single argument\")\n",
    "    def method(self,a=None,b =None):\n",
    "        print\"two arguments\"\n",
    "        print a\n",
    "        print b\n",
    "\n",
    "obj =  Class_name()\n",
    "obj.method(10,20)\n",
    "obj.method(100)\n",
    "obj.method()"
   ]
  },
  {
   "cell_type": "code",
   "execution_count": 6,
   "metadata": {},
   "outputs": [
    {
     "name": "stdout",
     "output_type": "stream",
     "text": [
      "i am child property\n"
     ]
    },
    {
     "ename": "AttributeError",
     "evalue": "child_class instance has no attribute 'property1'",
     "output_type": "error",
     "traceback": [
      "\u001b[1;31m---------------------------------------------------------------------------\u001b[0m",
      "\u001b[1;31mAttributeError\u001b[0m                            Traceback (most recent call last)",
      "\u001b[1;32m<ipython-input-6-e5c9a32c0e9c>\u001b[0m in \u001b[0;36m<module>\u001b[1;34m()\u001b[0m\n\u001b[0;32m      8\u001b[0m \u001b[0mobj\u001b[0m \u001b[1;33m=\u001b[0m  \u001b[0mchild_class\u001b[0m\u001b[1;33m(\u001b[0m\u001b[1;33m)\u001b[0m\u001b[1;33m\u001b[0m\u001b[0m\n\u001b[0;32m      9\u001b[0m \u001b[0mobj\u001b[0m\u001b[1;33m.\u001b[0m\u001b[0mproperty2\u001b[0m\u001b[1;33m(\u001b[0m\u001b[1;33m)\u001b[0m\u001b[1;33m\u001b[0m\u001b[0m\n\u001b[1;32m---> 10\u001b[1;33m \u001b[0mobj\u001b[0m\u001b[1;33m.\u001b[0m\u001b[0mproperty1\u001b[0m\u001b[1;33m(\u001b[0m\u001b[1;33m)\u001b[0m\u001b[1;33m\u001b[0m\u001b[0m\n\u001b[0m",
      "\u001b[1;31mAttributeError\u001b[0m: child_class instance has no attribute 'property1'"
     ]
    }
   ],
   "source": [
    "#Inheritance \n",
    "class parent_class():\n",
    "    def property1(self):\n",
    "        print \"i am parent property\"\n",
    "class child_class():\n",
    "    def property2(self):\n",
    "        print \"i am child property\"\n",
    "obj =  child_class()\n",
    "obj.property2()\n",
    "obj.property1()"
   ]
  },
  {
   "cell_type": "code",
   "execution_count": 7,
   "metadata": {},
   "outputs": [
    {
     "name": "stdout",
     "output_type": "stream",
     "text": [
      "i am child property\n",
      "i am parent property\n"
     ]
    }
   ],
   "source": [
    "#Inheritance \n",
    "class parent_class(): # Base Class\n",
    "    def property1(self):\n",
    "        print \"i am parent property\"\n",
    "class child_class(parent_class): # derived class\n",
    "    def property2(self):\n",
    "        print \"i am child property\"\n",
    "obj =  child_class()\n",
    "obj.property2()\n",
    "obj.property1()"
   ]
  },
  {
   "cell_type": "code",
   "execution_count": null,
   "metadata": {},
   "outputs": [],
   "source": [
    "# polymorpshim is also not supported  ---->>> method overloadinf is not supported "
   ]
  },
  {
   "cell_type": "code",
   "execution_count": 9,
   "metadata": {},
   "outputs": [
    {
     "name": "stdout",
     "output_type": "stream",
     "text": [
      "i am child property\n",
      "i am child property\n"
     ]
    }
   ],
   "source": [
    "#Inheritance \n",
    "class parent_class(): # Base Class\n",
    "    def property1(self,var):\n",
    "        print \"i am parent property\"\n",
    "        \n",
    "class child_class(parent_class): # derived class\n",
    "    def property1(self,var= None):\n",
    "        print \"i am child property\"\n",
    "obj =  child_class()\n",
    "obj.property1()\n",
    "obj.property1(100)"
   ]
  },
  {
   "cell_type": "code",
   "execution_count": null,
   "metadata": {},
   "outputs": [],
   "source": []
  }
 ],
 "metadata": {
  "kernelspec": {
   "display_name": "Python 2",
   "language": "python",
   "name": "python2"
  },
  "language_info": {
   "codemirror_mode": {
    "name": "ipython",
    "version": 2
   },
   "file_extension": ".py",
   "mimetype": "text/x-python",
   "name": "python",
   "nbconvert_exporter": "python",
   "pygments_lexer": "ipython2",
   "version": "2.7.16"
  }
 },
 "nbformat": 4,
 "nbformat_minor": 2
}
