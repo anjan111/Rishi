{
 "cells": [
  {
   "cell_type": "markdown",
   "metadata": {},
   "source": [
    "### File \n",
    "\n",
    "===>>> File is a  data container  ( related data )\n",
    "\n",
    "===>>> Files are the storage device ( part of the storage)\n",
    "\n",
    "### Types Of Files\n",
    "\n",
    "1. Binary Files \n",
    "\n",
    "==>> A file which contains the binary data ( 0,1)\n",
    "\n",
    "==>> Its not easy to write & Its not easy to read\n",
    "\n",
    "==>> Examples\n",
    "\n",
    "        1. video files\n",
    "        \n",
    "        2. image files\n",
    "        \n",
    "        3. executables\n",
    "        \n",
    "2. Text Files\n",
    "\n",
    "==>> A file which contains the alphanumarical Data \n",
    "\n",
    "==>> Its easy to write and read\n",
    "\n",
    "==>> Examples\n",
    "\n",
    "        1. .txt ,  .doc  , .ppts\n",
    "        \n",
    "\n",
    "### File Operations\n",
    "\n",
    "==>> creates the file\n",
    "\n",
    "==>> opening the file\n",
    "\n",
    "==>> reading the data from file\n",
    "\n",
    "==>> writing the data into the file\n",
    "\n",
    "==>> closing the file\n",
    "\n",
    "### Python  File Handling \n",
    "\n",
    "===>> with help of python PL  we can do the file operation\n",
    "\n",
    "===>> If we want to do the file operations we have to create a file object\n",
    "\n",
    "===>> FILE is a class which contains the all file operational Methods \n",
    "\n",
    "===>> open() is used for to create file object\n",
    "\n",
    "#### syntax \n",
    "\n",
    "file_obj  =  open(\"file name with path\",\" mode\")\n",
    "\n",
    "===>> with help file object we can use all file operaational methods \n",
    "\n",
    "1. write()\n",
    "\n",
    "2. read()\n",
    "\n",
    "3. readline()\n",
    "\n",
    "4. readlines()\n",
    "\n",
    "5. tell()\n",
    "\n",
    "6. seek()\n",
    "\n",
    "7. close()\n",
    "\n",
    "#### Modes \n",
    "\n",
    "1. write( w/ w+)\n",
    "\n",
    "===>> file is not existed then create new file \n",
    "\n",
    "===>> file is existed with some data then open file  and we can lost daata\n",
    "\n",
    "\n",
    "2. append ( a / a+)\n",
    "\n",
    "===>> file is not existed then create new file \n",
    "\n",
    "===>> file is existed with some data then open file  and  the data can safe\n",
    "\n",
    "3. read ( r / r+ )\n",
    "\n",
    "===>> file is not existed then its an error\n",
    "\n",
    "===>> file is existed with some data then open file  and  data can be safe"
   ]
  },
  {
   "cell_type": "code",
   "execution_count": 1,
   "metadata": {},
   "outputs": [
    {
     "name": "stdout",
     "output_type": "stream",
     "text": [
      "creating the fo object as well as create sample.txt\n",
      "closing the sample.txt file\n",
      "open a sample1.txt file with w+ mode\n",
      "closing the sample1.txt\n"
     ]
    }
   ],
   "source": [
    "# write mode  w    , w+\n",
    "print\"creating the fo object as well as create sample.txt\"\n",
    "fo = open(\"sample.txt\",\"w\") # file is not existed  then create a sample.txt file\n",
    "print \"closing the sample.txt file\"\n",
    "fo.close()\n",
    "print \"open a sample1.txt file with w+ mode\"\n",
    "fo1 = open(\"sample1.txt\",\"w+\") # file is not existed  then create a sample.txt file\n",
    "print \"closing the sample1.txt\"\n",
    "fo1.close()"
   ]
  },
  {
   "cell_type": "code",
   "execution_count": 2,
   "metadata": {},
   "outputs": [
    {
     "name": "stdout",
     "output_type": "stream",
     "text": [
      "opening a file with w mode\n",
      "closing a file\n",
      "opening a file with w+ mode\n",
      "closing a file\n"
     ]
    }
   ],
   "source": [
    "# write mode  w    , w+\n",
    "print \"opening a file with w mode\"\n",
    "fo = open(\"sample.txt\",\"w\") # file is existed with some daata then file is opend and data lost\n",
    "print \"closing a file\"\n",
    "fo.close()\n",
    "print \"opening a file with w+ mode\"\n",
    "fo1 = open(\"sample1.txt\",\"w+\") # file is existed with some daata then file is opend and data lost\n",
    "print \"closing a file\"\n",
    "fo1.close()"
   ]
  },
  {
   "cell_type": "code",
   "execution_count": 3,
   "metadata": {},
   "outputs": [
    {
     "name": "stdout",
     "output_type": "stream",
     "text": [
      "enter ddata : \"anjan Kumar\"\n",
      "writing into the file\n",
      "daata is written over\n"
     ]
    }
   ],
   "source": [
    "# write mode  w    , w+\n",
    "# w -----> only write method work\n",
    "\n",
    "fo = open(\"sample.txt\",\"w\") # file is existed with some daata then file is opend and data lost\n",
    "data = input(\"enter ddata : \")\n",
    "print \"writing into the file\"\n",
    "fo.write(data)\n",
    "print \"daata is written over\"\n",
    "fo.close()\n"
   ]
  },
  {
   "cell_type": "code",
   "execution_count": 4,
   "metadata": {},
   "outputs": [
    {
     "name": "stdout",
     "output_type": "stream",
     "text": [
      "enter ddata : \"new daata\"\n",
      "writing into the file\n",
      "daata is written over\n"
     ]
    },
    {
     "ename": "IOError",
     "evalue": "File not open for reading",
     "output_type": "error",
     "traceback": [
      "\u001b[1;31m---------------------------------------------------------------------------\u001b[0m",
      "\u001b[1;31mIOError\u001b[0m                                   Traceback (most recent call last)",
      "\u001b[1;32m<ipython-input-4-3908c61b2c37>\u001b[0m in \u001b[0;36m<module>\u001b[1;34m()\u001b[0m\n\u001b[0;32m      9\u001b[0m \u001b[1;32mprint\u001b[0m \u001b[1;34m\"daata is written over\"\u001b[0m\u001b[1;33m\u001b[0m\u001b[0m\n\u001b[0;32m     10\u001b[0m \u001b[0mfo\u001b[0m\u001b[1;33m.\u001b[0m\u001b[0mseek\u001b[0m\u001b[1;33m(\u001b[0m\u001b[1;36m0\u001b[0m\u001b[1;33m,\u001b[0m\u001b[1;36m0\u001b[0m\u001b[1;33m)\u001b[0m\u001b[1;31m# BOF\u001b[0m\u001b[1;33m\u001b[0m\u001b[0m\n\u001b[1;32m---> 11\u001b[1;33m \u001b[1;32mprint\u001b[0m \u001b[0mfo\u001b[0m\u001b[1;33m.\u001b[0m\u001b[0mread\u001b[0m\u001b[1;33m(\u001b[0m\u001b[1;33m)\u001b[0m\u001b[1;33m\u001b[0m\u001b[0m\n\u001b[0m\u001b[0;32m     12\u001b[0m \u001b[0mfo\u001b[0m\u001b[1;33m.\u001b[0m\u001b[0mclose\u001b[0m\u001b[1;33m(\u001b[0m\u001b[1;33m)\u001b[0m\u001b[1;33m\u001b[0m\u001b[0m\n",
      "\u001b[1;31mIOError\u001b[0m: File not open for reading"
     ]
    }
   ],
   "source": [
    "# write mode  w    , w+\n",
    "\n",
    "#### w ---> only for writting \n",
    "\n",
    "fo = open(\"sample.txt\",\"w\") # file is existed with some daata then file is opend and data lost\n",
    "data = input(\"enter ddata : \")\n",
    "print \"writing into the file\"\n",
    "fo.write(data)\n",
    "print \"daata is written over\"\n",
    "fo.seek(0,0)# BOF\n",
    "# fo.seek(0,0)\n",
    "print fo.read()\n",
    "fo.close()\n"
   ]
  },
  {
   "cell_type": "code",
   "execution_count": 6,
   "metadata": {},
   "outputs": [
    {
     "name": "stdout",
     "output_type": "stream",
     "text": [
      "enter ddata : \"hello i Am Anjan\"\n",
      "writing into the file\n",
      "daata is written over\n",
      "data reading \n",
      "enter ddata : \"1234567890\"\n",
      "writing into the file\n",
      "hello i Am Anjan1234567890\n",
      "enter ddata : \"!@#$%^&*()\"\n",
      "writing into the file\n",
      "hello i Am!@#$%^&*()567890\n"
     ]
    }
   ],
   "source": [
    "# write mode  w    , w+\n",
    "\n",
    "#### w+ --->both read =ing   and writing \n",
    "\n",
    "fo = open(\"sample.txt\",\"w+\") # file is existed with some daata then file is opend and data lost\n",
    "data = input(\"enter ddata : \")\n",
    "print \"writing into the file\"\n",
    "fo.write(data)\n",
    "print \"daata is written over\"\n",
    "data = input(\"enter ddata : \")\n",
    "print \"writing into the file\"\n",
    "fo.write(data)\n",
    "fo.seek(0,0)# BOF\n",
    "print fo.read()\n",
    "fo.seek(10,0)# \n",
    "data = input(\"enter ddata : \")\n",
    "print \"writing into the file\"\n",
    "fo.write(data)\n",
    "fo.seek(0,0)# BOF\n",
    "print fo.read()\n",
    "fo.close()\n"
   ]
  },
  {
   "cell_type": "code",
   "execution_count": 1,
   "metadata": {},
   "outputs": [
    {
     "name": "stdout",
     "output_type": "stream",
     "text": [
      "Creating a sample2.txt file\n",
      "closing a sample2.txt file\n",
      "Creating a sample3.txt file\n",
      "closing a sample3.txt file\n"
     ]
    }
   ],
   "source": [
    "# append mode  a    , a+\n",
    "print \"Creating a sample2.txt file\"\n",
    "fo = open(\"sample2.txt\",\"a\") # file is not existed  then create a sample2.txt file\n",
    "print \"closing a sample2.txt file\"\n",
    "fo.close()\n",
    "print \"Creating a sample3.txt file\"\n",
    "fo1 = open(\"sample3.txt\",\"a+\") # file is not existed  then create a sample3.txt file\n",
    "print \"closing a sample3.txt file\"\n",
    "fo1.close()"
   ]
  },
  {
   "cell_type": "code",
   "execution_count": 2,
   "metadata": {},
   "outputs": [
    {
     "name": "stdout",
     "output_type": "stream",
     "text": [
      "sample2.txt is opening\n",
      "sample2.txt file is closing \n",
      "sample3.txt is file opening\n",
      "sample3.txt is closing\n"
     ]
    }
   ],
   "source": [
    "# append mode  a    , a+\n",
    "print \"sample2.txt is opening\"\n",
    "fo = open(\"sample2.txt\",\"a\") # file is  existed  then open the file and  data can be safe\n",
    "print \"sample2.txt file is closing \"\n",
    "fo.close()\n",
    "print \"sample3.txt is file opening\"\n",
    "fo1 = open(\"sample3.txt\",\"a+\") # file is  existed  then open the file and  data can be safe\n",
    "print \"sample3.txt is closing\"\n",
    "fo1.close()"
   ]
  },
  {
   "cell_type": "code",
   "execution_count": 3,
   "metadata": {},
   "outputs": [
    {
     "name": "stdout",
     "output_type": "stream",
     "text": [
      "enter some data : \"i am appending at EOP\"\n"
     ]
    }
   ],
   "source": [
    "# append mode  a    , a+\n",
    "# a ---> only for writting \n",
    "# We can't modify existing data\n",
    "fo = open(\"sample2.txt\",\"a\") # file is not existed  then create a sample2.txt file\n",
    "data = input(\"enter some data : \")\n",
    "fo.seek(0,0) #BOF\n",
    "fo.write(data)# write at end of the  file\n",
    "data = input(\"enter some data : \")\n",
    "fo.seek(0,0) #BOF\n",
    "fo.write(data)# write at end of the  file\n",
    "fo.close()"
   ]
  },
  {
   "cell_type": "code",
   "execution_count": 4,
   "metadata": {},
   "outputs": [
    {
     "name": "stdout",
     "output_type": "stream",
     "text": [
      "enter some data : \" 1234567890 \"\n",
      "enter some data : \" abcdefgh \"\n"
     ]
    },
    {
     "ename": "IOError",
     "evalue": "File not open for reading",
     "output_type": "error",
     "traceback": [
      "\u001b[1;31m---------------------------------------------------------------------------\u001b[0m",
      "\u001b[1;31mIOError\u001b[0m                                   Traceback (most recent call last)",
      "\u001b[1;32m<ipython-input-4-1441d54a74bd>\u001b[0m in \u001b[0;36m<module>\u001b[1;34m()\u001b[0m\n\u001b[0;32m     10\u001b[0m \u001b[0mfo\u001b[0m\u001b[1;33m.\u001b[0m\u001b[0mwrite\u001b[0m\u001b[1;33m(\u001b[0m\u001b[0mdata\u001b[0m\u001b[1;33m)\u001b[0m\u001b[1;31m# write at end of the  file\u001b[0m\u001b[1;33m\u001b[0m\u001b[0m\n\u001b[0;32m     11\u001b[0m \u001b[0mfo\u001b[0m\u001b[1;33m.\u001b[0m\u001b[0mseek\u001b[0m\u001b[1;33m(\u001b[0m\u001b[1;36m0\u001b[0m\u001b[1;33m,\u001b[0m\u001b[1;36m0\u001b[0m\u001b[1;33m)\u001b[0m\u001b[1;33m\u001b[0m\u001b[0m\n\u001b[1;32m---> 12\u001b[1;33m \u001b[1;32mprint\u001b[0m \u001b[0mfo\u001b[0m\u001b[1;33m.\u001b[0m\u001b[0mread\u001b[0m\u001b[1;33m(\u001b[0m\u001b[1;33m)\u001b[0m\u001b[1;33m\u001b[0m\u001b[0m\n\u001b[0m\u001b[0;32m     13\u001b[0m \u001b[0mfo\u001b[0m\u001b[1;33m.\u001b[0m\u001b[0mclose\u001b[0m\u001b[1;33m(\u001b[0m\u001b[1;33m)\u001b[0m\u001b[1;33m\u001b[0m\u001b[0m\n",
      "\u001b[1;31mIOError\u001b[0m: File not open for reading"
     ]
    }
   ],
   "source": [
    "# append mode  a    , a+\n",
    "# a ---> only for writting \n",
    "# We can't modify existing data\n",
    "fo = open(\"sample2.txt\",\"a\") # file is not existed  then create a sample2.txt file\n",
    "data = input(\"enter some data : \")\n",
    "fo.seek(0,0) #BOF\n",
    "fo.write(data)# write at end of the  file\n",
    "data = input(\"enter some data : \")\n",
    "fo.seek(0,0) #BOF\n",
    "fo.write(data)# write at end of the  file\n",
    "fo.seek(0,0)\n",
    "print fo.read()\n",
    "fo.close()"
   ]
  },
  {
   "cell_type": "code",
   "execution_count": 5,
   "metadata": {},
   "outputs": [
    {
     "name": "stdout",
     "output_type": "stream",
     "text": [
      "enter some data : \" 123456\"\n",
      "i have some data i am appending at EOP 1234567890  abcdefgh  123456\n"
     ]
    }
   ],
   "source": [
    "# append mode  a    , a+\n",
    "# a+ ---> write + read\n",
    "\n",
    "fo = open(\"sample2.txt\",\"a+\") # file is not existed  then create a sample2.txt file\n",
    "data = input(\"enter some data : \")\n",
    "fo.write(data)# write at end of the  file\n",
    "fo.seek(0,0)\n",
    "print fo.read()\n",
    "fo.close()"
   ]
  },
  {
   "cell_type": "code",
   "execution_count": 6,
   "metadata": {},
   "outputs": [
    {
     "name": "stdout",
     "output_type": "stream",
     "text": [
      "i have some data i am appending at EOP 1234567890  abcdefgh  123456\n",
      "i have some data \n",
      "i have some data \n"
     ]
    }
   ],
   "source": [
    "# read mode  r    , r+\n",
    "\n",
    "fo = open(\"sample2.txt\") # file is  existed  then open the file and  data can be safe\n",
    "print fo.read()\n",
    "fo.close()\n",
    "\n",
    "fo1 = open(\"sample3.txt\",\"r\") # file is  existed  then open the file and  data can be safe\n",
    "print fo1.read()\n",
    "fo1.close()\n",
    "fo1 = open(\"sample3.txt\",\"r+\") # file is  existed  then open the file and  data can be safe\n",
    "print fo1.read()\n",
    "fo1.close()"
   ]
  },
  {
   "cell_type": "code",
   "execution_count": 7,
   "metadata": {},
   "outputs": [
    {
     "ename": "IOError",
     "evalue": "[Errno 2] No such file or directory: 'sample5.txt'",
     "output_type": "error",
     "traceback": [
      "\u001b[1;31m---------------------------------------------------------------------------\u001b[0m",
      "\u001b[1;31mIOError\u001b[0m                                   Traceback (most recent call last)",
      "\u001b[1;32m<ipython-input-7-a1b636469a32>\u001b[0m in \u001b[0;36m<module>\u001b[1;34m()\u001b[0m\n\u001b[1;32m----> 1\u001b[1;33m \u001b[0mfo1\u001b[0m \u001b[1;33m=\u001b[0m \u001b[0mopen\u001b[0m\u001b[1;33m(\u001b[0m\u001b[1;34m\"sample5.txt\"\u001b[0m\u001b[1;33m,\u001b[0m\u001b[1;34m\"r\"\u001b[0m\u001b[1;33m)\u001b[0m \u001b[1;31m# file is  not existed  then Its error\u001b[0m\u001b[1;33m\u001b[0m\u001b[0m\n\u001b[0m\u001b[0;32m      2\u001b[0m \u001b[1;32mprint\u001b[0m \u001b[0mfo\u001b[0m\u001b[1;33m.\u001b[0m\u001b[0mread\u001b[0m\u001b[1;33m(\u001b[0m\u001b[1;33m)\u001b[0m\u001b[1;33m\u001b[0m\u001b[0m\n\u001b[0;32m      3\u001b[0m \u001b[0mfo1\u001b[0m\u001b[1;33m.\u001b[0m\u001b[0mclose\u001b[0m\u001b[1;33m(\u001b[0m\u001b[1;33m)\u001b[0m\u001b[1;33m\u001b[0m\u001b[0m\n",
      "\u001b[1;31mIOError\u001b[0m: [Errno 2] No such file or directory: 'sample5.txt'"
     ]
    }
   ],
   "source": [
    "fo1 = open(\"sample5.txt\",\"r\") # file is  not existed  then Its error\n",
    "print fo.read()\n",
    "fo1.close()"
   ]
  },
  {
   "cell_type": "code",
   "execution_count": 8,
   "metadata": {},
   "outputs": [
    {
     "ename": "IOError",
     "evalue": "[Errno 2] No such file or directory: 'sample5.txt'",
     "output_type": "error",
     "traceback": [
      "\u001b[1;31m---------------------------------------------------------------------------\u001b[0m",
      "\u001b[1;31mIOError\u001b[0m                                   Traceback (most recent call last)",
      "\u001b[1;32m<ipython-input-8-70f2022dd7cd>\u001b[0m in \u001b[0;36m<module>\u001b[1;34m()\u001b[0m\n\u001b[1;32m----> 1\u001b[1;33m \u001b[0mfo1\u001b[0m \u001b[1;33m=\u001b[0m \u001b[0mopen\u001b[0m\u001b[1;33m(\u001b[0m\u001b[1;34m\"sample5.txt\"\u001b[0m\u001b[1;33m,\u001b[0m\u001b[1;34m\"r+\"\u001b[0m\u001b[1;33m)\u001b[0m \u001b[1;31m# # file is  not existed  then Its error\u001b[0m\u001b[1;33m\u001b[0m\u001b[0m\n\u001b[0m\u001b[0;32m      2\u001b[0m \u001b[1;32mprint\u001b[0m \u001b[0mfo\u001b[0m\u001b[1;33m.\u001b[0m\u001b[0mread\u001b[0m\u001b[1;33m(\u001b[0m\u001b[1;33m)\u001b[0m\u001b[1;33m\u001b[0m\u001b[0m\n\u001b[0;32m      3\u001b[0m \u001b[0mfo1\u001b[0m\u001b[1;33m.\u001b[0m\u001b[0mclose\u001b[0m\u001b[1;33m(\u001b[0m\u001b[1;33m)\u001b[0m\u001b[1;33m\u001b[0m\u001b[0m\n",
      "\u001b[1;31mIOError\u001b[0m: [Errno 2] No such file or directory: 'sample5.txt'"
     ]
    }
   ],
   "source": [
    "fo1 = open(\"sample5.txt\",\"r+\") # # file is  not existed  then Its error\n",
    "print fo.read()\n",
    "fo1.close()"
   ]
  },
  {
   "cell_type": "code",
   "execution_count": 9,
   "metadata": {},
   "outputs": [
    {
     "name": "stdout",
     "output_type": "stream",
     "text": [
      "i have some data \n"
     ]
    },
    {
     "ename": "IOError",
     "evalue": "File not open for writing",
     "output_type": "error",
     "traceback": [
      "\u001b[1;31m---------------------------------------------------------------------------\u001b[0m",
      "\u001b[1;31mIOError\u001b[0m                                   Traceback (most recent call last)",
      "\u001b[1;32m<ipython-input-9-24d22b9bf545>\u001b[0m in \u001b[0;36m<module>\u001b[1;34m()\u001b[0m\n\u001b[0;32m      2\u001b[0m \u001b[0mfo1\u001b[0m \u001b[1;33m=\u001b[0m \u001b[0mopen\u001b[0m\u001b[1;33m(\u001b[0m\u001b[1;34m\"sample3.txt\"\u001b[0m\u001b[1;33m,\u001b[0m\u001b[1;34m\"r\"\u001b[0m\u001b[1;33m)\u001b[0m \u001b[1;31m# file is  existed  then open the file and  data can be safe\u001b[0m\u001b[1;33m\u001b[0m\u001b[0m\n\u001b[0;32m      3\u001b[0m \u001b[1;32mprint\u001b[0m \u001b[0mfo1\u001b[0m\u001b[1;33m.\u001b[0m\u001b[0mread\u001b[0m\u001b[1;33m(\u001b[0m\u001b[1;33m)\u001b[0m\u001b[1;33m\u001b[0m\u001b[0m\n\u001b[1;32m----> 4\u001b[1;33m \u001b[0mfo1\u001b[0m\u001b[1;33m.\u001b[0m\u001b[0mwrite\u001b[0m\u001b[1;33m(\u001b[0m\u001b[1;34m\"kdkhshfjkd\"\u001b[0m\u001b[1;33m)\u001b[0m\u001b[1;33m\u001b[0m\u001b[0m\n\u001b[0m\u001b[0;32m      5\u001b[0m \u001b[0mfo1\u001b[0m\u001b[1;33m.\u001b[0m\u001b[0mclose\u001b[0m\u001b[1;33m(\u001b[0m\u001b[1;33m)\u001b[0m\u001b[1;33m\u001b[0m\u001b[0m\n",
      "\u001b[1;31mIOError\u001b[0m: File not open for writing"
     ]
    }
   ],
   "source": [
    "# r ---> only for reading \n",
    "fo1 = open(\"sample3.txt\",\"r\") # file is  existed  then open the file and  data can be safe\n",
    "print fo1.read()\n",
    "fo1.write(\"kdkhshfjkd\")\n",
    "fo1.close()"
   ]
  },
  {
   "cell_type": "code",
   "execution_count": 10,
   "metadata": {},
   "outputs": [
    {
     "name": "stdout",
     "output_type": "stream",
     "text": [
      "i have some data \n",
      " some data \u0005\u0000\u0000\u0000@\u0000\u0000\u0000s�\u0000\u0000\u0000d\u0000\u0000Z\u0000\u0000d\u0001\u0000d\u0002\u0000l\u0001\u0000m\u0002\u0000Z\u0002\u0000\u0001d\u0001\u0000d\u0003\u0000l\u0003\u0000m\u0004\u0000Z\u0004\u0000\u0001d\u0001\u0000d\u0004\u0000l\u0005\u0000m\u0006\u0000Z\u0006\u0000\u0001d\u0001\u0000d\u0005\u0000l\u0007\u0000m\b\u0000Z\b\u0000\u0001d\u0001\u0000d\u0006\u0000l\t\u0000m\n",
      "\u0000Z\n",
      "\u0000m\u000b",
      "\u0000Z\u000b",
      "\u0000\u0001d\u0007\u0000d\b\u0000l\f",
      "\u0000m\r",
      "\u0000Z\r",
      "\u0000m\u000e\u0000Z\u000e\u0000\u0001e\u0006\u0000d\t\u0000e\u0002\u0000e\u0004\u0000e\b\u0000f\u0003\u0000d\n",
      "\u0000�\u0000\u0000�\u0000\u0000Y�\u0001\u0000Z\u000f\u0000d\u000b",
      "\u0000S(\f",
      "\u0000\u0000\u0000s)\u0000\u0000\u0000Color class.\n",
      "\n",
      "Represents an HTML Color .\n",
      "i\u0001\u0000\u0000\u0000(\u0001\u0000\u0000\u0000t\u0011\u0000\u0000\u0000DescriptionWidget(\u0001\u0000\u0000\u0000t\u000b",
      "\u0000\u0000\u0000ValueWidget(\u0001\u0000\u0000\u0000t\b\u0000\u0000\u0000register(\u0001\u0000\u0000\u0000t\n",
      "\u0000\u0000\u0000CoreWidget(\u0002\u0000\u0000\u0000t\u0004\u0000\u0000\u0000Datet\u0012\u0000\u0000\u0000date_serializationi����(\u0002\u0000\u0000\u0000t\u0007\u0000\u0000\u0000Unicodet\u0004\u0000\u0000\u0000Boolt\n",
      "\u0000\u0000\u0000DatePickerc\u0000\u0000\u0000\u0000\u0000\u0000\u0000\u0000\u0004\u0000\u0000\u0000B\u0000\u0000\u0000s}\u0000\u0000\u0000e\u0000\u0000Z\u0001\u0000d\u0000\u0000Z\u0002\u0000e\u0003\u0000d\u0007\u0000d\u0001\u0000e\u0005\u0000�\u0001\u0001j\u0006\u0000d\u0002\u0000e\u0005\u0000e\u0007\u0000�\u0000\u0001Z\b\u0000e\t\u0000e\n",
      "\u0000d\u0003\u0000d\u0004\u0000�\u0001\u0001j\u0006\u0000d\u0002\u0000e\u0005\u0000�\u0000\u0001Z\u000b",
      "\u0000e\f",
      "\u0000d\u0005\u0000�\u0001\u0000j\u0006\u0000d\u0002\u0000e\u0005\u0000�\u0000\u0001Z\r",
      "\u0000e\f",
      "\u0000d\u0006\u0000�\u0001\u0000j\u0006\u0000d\u0002\u0000e\u0005\u0000�\u0000\u0001Z\u000e\u0000RS(\b\u0000\u0000\u0000s�\u0001\u0000\u0000\n",
      "    Display a widget for picking dates.\n",
      "\n",
      "    Parameters\n",
      "    ----------\n",
      "\n",
      "    value: datetime.date\n",
      "        The current value of the widget.\n",
      "\n",
      "    disabled: bool\n",
      "        Whether to disable user changes.\n",
      "\n",
      "    Examples\n",
      "    --------\n",
      "\n",
      "    >>> import datetime\n",
      "    >>> import ipywidgets as widgets\n",
      "    >>> date_pick = widgets.DatePicker()\n",
      "    >>> date_pick.value = datetime.date(2019, 7, 9)\n",
      "    t\n",
      "\u0000\u0000\u0000allow_nonet\u0004\u0000\u0000\u0000synct\u0004\u0000\u0000\u0000helps\u001f\u0000\u0000\u0000Enable or disable user changes.t\u000e\u0000\u0000\u0000DatePickerViewt\u000f\u0000\u0000\u0000DatePickerModelN(\u000f\u0000\u0000\u0000t\b\u0000\u0000\u0000__name__t\n",
      "\u0000\u0000\u0000__module__t\u0007\u0000\u0000\u0000__doc__R\u0004\u0000\u0000\u0000t\u0004\u0000\u0000\u0000Nonet\u0004\u0000\u0000\u0000Truet\u0003\u0000\u0000\u0000tagR\u0005\u0000\u0000\u0000t\u0005\u0000\u0000\u0000valueR\u0007\u0000\u0000\u0000t\u0005\u0000\u0000\u0000Falset\b\u0000\u0000\u0000disabledR\u0006\u0000\u0000\u0000t\n",
      "\u0000\u0000\u0000_view_namet\u000b",
      "\u0000\u0000\u0000_model_name(\u0000\u0000\u0000\u0000(\u0000\u0000\u0000\u0000(\u0000\u0000\u0000\u0000s3\u0000\u0000\u0000Lib\\site-packages\\ipywidgets\\widgets\\widget_date.pyR\b\u0000\u0000\u0000\u0011\u0000\u0000\u0000s\n",
      "\u0000\u0000\u0000\u0006\u0015\u0006\u0001!\u0001\u001e",
      "\u0003\u0018\u0001N(\u0010\u0000\u0000\u0000R\u0010\u0000\u0000\u0000t\u0012\u0000\u0000\u0000widget_descriptionR\u0000\u0000\u0000\u0000t\u000b",
      "\u0000\u0000\u0000valuewidgetR\u0001\u0000\u0000\u0000t\u0006\u0000\u0000\u0000widgetR\u0002\u0000\u0000\u0000t\u000b",
      "\u0000\u0000\u0000widget_coreR\u0003\u0000\u0000\u0000t\u000b",
      "\u0000\u0000\u0000trait_typesR\u0004\u0000\u0000\u0000R\u0005\u0000\u0000\u0000t\t\u0000\u0000\u0000traitletsR\u0006\u0000\u0000\u0000R\u0007\u0000\u0000\u0000R\b\u0000\u0000\u0000(\u0000\u0000\u0000\u0000(\u0000\u0000\u0000\u0000(\u0000\u0000\u0000\u0000s3\u0000\u0000\u0000Lib\\site-packages\\ipywidgets\\widgets\\widget_date.pyt\b\u0000\u0000\u0000<module>\u0007\u0000\u0000\u0000s\u0010\u0000\u0000\u0000\u0006\u0002\u0010\u0001\u0010\u0001\u0010\u0001\u0010\u0001\u0016\u0001\u0016\u0003\u0006\u0001\u0000\u0000\u0000(\u0000\u0000\u0000\u0000s2\u0000\u0000\u0000Lib\\site-packages\\ipywidgets\\widgets\\widget_int.pyt\b\u0000\u0000\u0000<module>\u0007\u0000\u0000\u0000sF\u0000\u0000\u0000\u0006\u0002\u0016\u0001\u0010\u0001\u0016\u0001\u0010\u0001\u0010\u0001\u001c",
      "\u0001:\t\u0006\r",
      "\u0006\u0002\t\u000b",
      "\t\u0012\u001c",
      "\n",
      "\u0016-\u0003\u0001\u0006\u0001\u0019\t\u0003\u0001\u0006\u0001\u0019\n",
      "\u0006\u0001\u0019\u0006\u0003\u0001\u0006\u0001\u0019\u0011\u0006\u0001\u0019\u0006\u0003\u0001\u0006\u0001\u0019\u000f\u0016\u001b\u0006\u0001\u0016\u000e\u0016!\u0006\u0001idgets\\widget_int.pyt\b\u0000\u0000\u0000_int_doc'\u0000\u0000\u0000s\b\u0000\u0000\u0000\u0000\u0002\u0012\u0005\t\u0001\t\u0001c\u0001\u0000\u0000\u0000\u0002\u0000\u0000\u0000\u0006\u0000\u0000\u0000\u0003\u0000\u0000\u0000s1\u0000\u0000\u0000d\u0002\u0000d\u0002\u0000d\u0002\u0000d\u0002\u0000�\u0000\u0000f\u0001\u0000d\u0001\u0000�\u0004\u0000}\u0001\u0000t\u0001\u0000|\u0001\u0000_\u0002\u0000|\u0001\u0000�\u0000\u0000_\u0003\u0000�\u0000\u0000S(\u0003\u0000\u0000\u0000s1\u0000\u0000\u0000Add bounded int docstring template to class init.c\u0005\u0000\u0000\u0000\u0006\u0000\u0000\u0000\u0003\u0000\u0000\u0000\u001b\u0000\u0000\u0000s~\u0000\u0000\u0000|\u0001\u0000d\u0000\u0000k\t\u0000r\u0019\u0000|\u0001\u0000|\u0005\u0000d\u0001\u0000<n\u0000\u0000|\u0002\u0000d\u0000\u0000k\t\u0000r2\u0000|\u0002\u0000|\u0005\u0000d\u0002\u0000<n\u0000\u0000|\u0003\u0000d\u0000\u0000k\t\u0000rK\u0000|\u0003\u0000|\u0005\u0000d\u0003\u0000<n\u0000\u0000|\u0004\u0000d\u0000\u0000k\t\u0000rd\u0000|\u0004\u0000|\u0005\u0000d\u0004\u0000<n\u0000\u0000t\u0001\u0000�\u0000\u0000|\u0000\u0000�\u0002\u0000j\u0002\u0000|\u0005\u0000�\u0000\u0000\u0001d\u0000\u0000S(\u0005\u0000\u0000\u0000NR\u0012\u0000\u0000\u0000t\u0003\u0000\u0000\u0000mint\u0003\u0000\u0000\u0000maxt\u0004\u0000\u0000\u0000step(\u0003\u0000\u0000\u0000R\u0013\u0000\u0000\u0000R\u0014\u0000\u0000\u0000R\u0015\u0000\u0000\u0000(\u0006\u0000\u0000\u0000R\u0016\u0000\u0000\u0000R\u0012\u0000\u0000\u0000R\u001c",
      "\u0000\u0000\u0000R\u001d",
      "\u0000\u0000\u0000R\u001e",
      "\u0000\u0000\u0000R\u0017\u0000\u0000\u0000(\u0001\u0000\u0000\u0000R\u0018\u0000\u0000\u0000(\u0000\u0000\u0000\u0000s2\u0000\u0000\u0000Lib\\site-packages\\ipywidgets\\widgets\\widget_int.pyR\u0015\u0000\u0000\u00004\u0000\u0000\u0000s\u0012\u0000\u0000\u0000\u0000\u0001\f",
      "\u0001\r",
      "\u0001\f",
      "\u0001\r",
      "\u0001\f",
      "\u0001\r",
      "\u0001\f",
      "\u0001\r",
      "\u0001N(\u0004\u0000\u0000\u0000R\u0013\u0000\u0000\u0000t\u0012\u0000\u0000\u0000_bounded_int_doc_tR\u001a\u0000\u0000\u0000R\u0015\u0000\u0000\u0000(\u0002\u0000\u0000\u0000R\u0018\u0000\u0000\u0000R\u0015\u0000\u0000\u0000(\u0000\u0000\u0000\u0000(\u0001\u0000\u0000\u0000R\u0018\u0000\u0000\u0000s2\u0000\u0000\u0000Lib\\site-packages\\ipywidgets\\widgets\\widget_int.pyt\u0010\u0000\u0000\u0000_bounded_int_doc2\u0000\u0000\u0000s\b\u0000\u0000\u0000\u0000\u0002\u001b\u000b",
      "\t\u0001\t\u0001t\u0004\u0000\u0000\u0000_Intc\u0000\u0000\u0000\u0000\u0000\u0000\u0000\u0000\u0004\u0000\u0000\u0000B\u0000\u0000\u0000s8\u0000\u0000\u0000e\u0000\u0000Z\u0001\u0000d\u0000\u0000Z\u0002\u0000e\u0003\u0000d\u0001\u0000d\u0002\u0000d\u0003\u0000�\u0001\u0001j\u0004\u0000d\u0004\u0000e\u0005\u0000�\u0000\u0001Z\u0006\u0000d\u0006\u0000d\u0005\u0000�\u0001\u0000Z\b\u0000RS(\u0007\u0000\u0000\u0000s1\u0000\u0000\u0000Base class for widgets that represent an integer.i\u0000\u0000\u0000\u0000t\u0004\u0000\u0000\u0000helps\t\u0000\u0000\u0000Int valuet\u0004\u0000\u0000\u0000syncc\u0002\u0000\u0000\u0000\u0003\u0000\u0000\u0000\u0003\u0000\u0000\u0000K\u0000\u0000\u0000s3\u0000\u0000\u0000|\u0001\u0000d\u0000\u0000k\t\u0000r\u0019\u0000|\u0001\u0000|\u0002\u0000d\u0001\u0000<n\u0000\u0000t\u0001\u0000t\u0002\u0000|\u0000\u0000�\u0002\u0000j\u0003\u0000|\u0002\u0000�\u0000\u0000\u0001d\u0000\u0000S(\u0002\u0000\u0000\u0000NR\u0012\u0000\u0000\u0000(\u0004\u0000\u0000\u0000R\u0013\u0000\u0000\u0000R\u0014\u0000\u0000\u0000R!\u0000\u0000\u0000R\u0015\u0000\u0000\u0000(\u0003\u0000\u0000\u0000R\u0016\u0000\u0000\u0000R\u0012\u0000\u0000\u0000R\u0017\u0000\u0000\u0000(\u0000\u0000\u0000\u0000(\u0000\u0000\u0000\u0000s2\u0000\u0000\u0000Lib\\site-packages\\ipywidgets\\widgets\\widget_int.pyR\u0015\u0000\u0000\u0000H\u0000\u0000\u0000s\u0006\u0000\u0000\u0000\u0000\u0001\f",
      "\u0001\r",
      "\u0001N(\t\u0000\u0000\u0000t\b\u0000\u0000\u0000__name__t\n",
      "\u0000\u0000\u0000__module__R\u001a\u0000\u0000\u0000R\u000b",
      "\u0000\u0000\u0000t\u0003\u0000\u0000\u0000tagt\u0004\u0000\u0000\u0000TrueR\u0012\u0000\u0000\u0000R\u0013\u0000\u0000\u0000R\u0015\u0000\u0000\u0000(\u0000\u0000\u0000\u0000(\u0000\u0000\u0000\u0000(\u0000\u0000\u0000\u0000s2\u0000\u0000\u0000Lib\\site-packages\\ipywidgets\\widgets\\widget_int.pyR!\u0000\u0000\u0000D\u0000\u0000\u0000s\u0006\u0000\u0000\u0000\u0006\u0001\u0006\u0001\u001e",
      "\u0002t\u000b",
      "\u0000\u0000\u0000_BoundedIntc\u0000\u0000\u0000\u0000\u0000\u0000\u0000\u0000\u0005\u0000\u0000\u0000B\u0000\u0000\u0000s�\u0000\u0000\u0000e\u0000\u0000Z\u0001\u0000d\u0000\u0000Z\u0002\u0000e\u0003\u0000d\u0001\u0000d\u0002\u0000d\u0003\u0000�\u0001\u0001j\u0004\u0000d\u0004\u0000e\u0005\u0000�\u0000\u0001Z\u0006\u0000e\u0003\u0000d\u0005\u0000d\u0002\u0000d\u0006\u0000�\u0001\u0001j\u0004\u0000d\u0004\u0000e\u0005\u0000�\u0000\u0001Z\u0007\u0000d\u000e\u0000d\u000e\u0000d\u000e\u0000d\u000e\u0000d\u0007\u0000�\u0004\u0000Z\t\u0000e\n",
      "\u0000d\b\u0000�\u0001\u0000d\t\u0000�\u0000\u0000�\u0001\u0000Z\u000b",
      "\u0000e\n",
      "\u0000d\n",
      "\u0000�\u0001\u0000d\u000b",
      "\u0000�\u0000\u0000�\u0001\u0000Z\f",
      "\u0000e\n",
      "\u0000d\f",
      "\u0000�\u0001\u0000d\r",
      "\u0000�\u0000\u0000�\u0001\u0000Z\r",
      "\u0000RS(\u000f\u0000\u0000\u0000sS\u0000\u0000\u0000Base class for widgets that represent an integer bounded from above and below.\n",
      "    id\u0000\u0000\u0000R\"\u0000\u0000\u0000s\t\u0000\u0000\u0000Max valueR#\u0000\u0000\u0000i\u0000\u0000\u0000\u0000s\t\u0000\u0000\u0000Min valuec\u0005\u0000\u0000\u0000\u0006\u0000\u0000\u0000\u0003\u0000\u0000\u0000K\u0000\u0000\u0000s~\u0000\u0000\u0000|\u0001\u0000d\u0000\u0000k\t\u0000r\u0019\u0000|\u0001\u0000|\u0005\u0000d\u0001\u0000<n\u0000\u0000|\u0002\u0000d\u0000\u0000k\t\u0000r2\u0000|\u0002\u0000|\u0005\u0000d\u0002\u0000<n\u0000\u0000|\u0003\u0000d\u0000\u0000k\t\u0000rK\u0000|\u0003\u0000|\u0005\u0000d\u0003\u0000<n\u0000\u0000|\u0004\u0000d\u0000\u0000k\t\u0000rd\u0000|\u0004\u0000|\u0005\u0000d\u0004\u0000<n\u0000\u0000t\u0001\u0000t\u0002\u0000|\u0000\u0000�\u0002\u0000j\u0003\u0000|\u0005\u0000�\u0000\u0000\u0001d\u0000\u0000S(\u0005\u0000\u0000\u0000NR\u0012\u0000\u0000\u0000R\u001c",
      "\u0000\u0000\u0000R\u001d",
      "\u0000\u0000\u0000R\u001e",
      "\u0000\u0000\u0000(\u0004\u0000\u0000\u0000R\u0013\u0000\u0000\u0000R\u0014\u0000\u0000\u0000R(\u0000\u0000\u0000R\u0015\u0000\u0000\u0000(\u0006\u0000\u0000\u0000R\u0016\u0000\u0000\u0000R\u0012\u0000\u0000\u0000R\u001c",
      "\u0000\u0000\u0000R\u001d",
      "\u0000\u0000\u0000R\u001e",
      "\u0000\u0000\u0000R\u0017\u0000\u0000\u0000(\u0000\u0000\u0000\u0000(\u0000\u0000\u0000\u0000s2\u0000\u0000\u0000Lib\\site-packages\\ipywidgets\\widgets\\widget_int.pyR\u0015\u0000\u0000\u0000T\u0000\u0000\u0000s\u0012\u0000\u0000\u0000\u0000\u0001\f",
      "\u0001\r",
      "\u0001\f",
      "\u0001\r",
      "\u0001\f",
      "\u0001\r",
      "\u0001\f",
      "\u0001\r",
      "\u0001R\u0012\u0000\u0000\u0000c\u0002\u0000\u0000\u0000\u0003\u0000\u0000\u0000\u0004\u0000\u0000\u0000C\u0000\u0000\u0000sM\u0000\u0000\u0000|\u0001\u0000d\u0001\u0000\u0019}\u0002\u0000|\u0000\u0000j\u0000\u0000|\u0002\u0000k\u0004\u0000s(\u0000|\u0000\u0000j\u0001\u0000|\u0002\u0000k\u0000\u0000rI\u0000t\u0000\u0000t\u0001\u0000|\u0002\u0000|\u0000\u0000j\u0000\u0000�\u0002\u0000|\u0000\u0000j\u0001\u0000�\u0002\u0000}\u0002\u0000n\u0000\u0000|\u0002\u0000S(\u0002\u0000\u0000\u0000s\u0013\u0000\u0000\u0000Cap and floor valueR\u0012\u0000\u0000\u0000(\u0002\u0000\u0000\u0000R\u001c",
      "\u0000\u0000\u0000R\u001d",
      "\u0000\u0000\u0000(\u0003\u0000\u0000\u0000R\u0016\u0000\u0000\u0000t\b\u0000\u0000\u0000proposalR\u0012\u0000\u0000\u0000(\u0000\u0000\u0000\u0000(\u0000\u0000\u0000\u0000s2\u0000\u0000\u0000Lib\\site-packages\\ipywidgets\\widgets\\widget_int.pyt\u000f\u0000\u0000\u0000_validate_value_\u0000\u0000\u0000s\b\u0000\u0000\u0000\u0000\u0003\n",
      "\u0001\u001e",
      "\u0001!\u0001R\u001c",
      "\u0000\u0000\u0000c\u0002\u0000\u0000\u0000\u0003\u0000\u0000\u0000\u0002\u0000\u0000\u0000C\u0000\u0000\u0000sG\u0000\u0000\u0000|\u0001\u0000d\u0001\u0000\u0019}\u0002\u0000|\u0002\u0000|\u0000\u0000j\u0000\u0000k\u0004\u0000r(\u0000t\u0001\u0000d\u0002\u0000�\u0001\u0000�\u0001\u0000n\u0000\u0000|\u0002\u0000|\u0000\u0000j\u0002\u0000k\u0004\u0000rC\u0000|\u0002\u0000|\u0000\u0000_\u0002\u0000n\u0000\u0000|\u0002\u0000S(\u0003\u0000\u0000\u0000s\u001b\u0000\u0000\u0000Enforce min <= value <= maxR\u0012\u0000\u0000\u0000s\u0011\u0000\u0000\u0000setting min > max(\u0003\u0000\u0000\u0000R\u001d",
      "\n"
     ]
    }
   ],
   "source": [
    "# r+ ---> read + write\n",
    "fo = open(\"sample3.txt\",\"r+\") # file is  existed  then open the file and  data can be safe\n",
    "print fo.read()\n",
    "fo.seek(0,0)\n",
    "fo.write(\" anjan\")\n",
    "print fo.read()\n",
    "#3fo.seek()\n",
    "fo.write(\"raj  \")\n",
    "fo.close()"
   ]
  },
  {
   "cell_type": "code",
   "execution_count": 11,
   "metadata": {},
   "outputs": [
    {
     "name": "stdout",
     "output_type": "stream",
     "text": [
      "i have some data i am appending at EOP 1234567890  abcdefgh  123456\n",
      " anjan some data i am appending at EOP 1234567890  abcdefgh  123456\n",
      "1234 n some data i am appending at EOP 1234567890  abcdefgh  123456\n"
     ]
    }
   ],
   "source": [
    "# r+ ---> read + write\n",
    "fo = open(\"sample2.txt\",\"r+\") # file is  existed  then open the file and  data can be safe\n",
    "print fo.read()\n",
    "fo.seek(0,0)\n",
    "fo.write(\" anjan\")\n",
    "fo.seek(0,0)\n",
    "print fo.read()\n",
    "fo.seek(0,0)\n",
    "fo.write(\"1234 \")\n",
    "fo.seek(0,0)\n",
    "print fo.read()\n",
    "fo.close()"
   ]
  },
  {
   "cell_type": "code",
   "execution_count": 12,
   "metadata": {},
   "outputs": [
    {
     "name": "stdout",
     "output_type": "stream",
     "text": [
      "1234567890\n",
      " anjan7890\n",
      "1234 n7890\n"
     ]
    }
   ],
   "source": [
    "# r+ ---> read + write\n",
    "fo = open(\"sam.txt\",\"r+\") # file is  existed  then open the file and  data can be safe\n",
    "print fo.read()\n",
    "fo.seek(0,0)\n",
    "fo.write(\" anjan\")\n",
    "fo.seek(0,0)\n",
    "print fo.read()\n",
    "fo.seek(0,0)\n",
    "fo.write(\"1234 \")\n",
    "fo.seek(0,0)\n",
    "print fo.read()\n",
    "fo.close()"
   ]
  },
  {
   "cell_type": "code",
   "execution_count": 14,
   "metadata": {},
   "outputs": [
    {
     "name": "stdout",
     "output_type": "stream",
     "text": [
      " a1234 890\n",
      " anjan 890\n",
      " anjan 8901234 \n"
     ]
    }
   ],
   "source": [
    "# r+ ---> read + write\n",
    "fo = open(\"sam.txt\",\"r+\") # file is  existed  then open the file and  data can be safe\n",
    "print fo.read()\n",
    "fo.seek(0,0)\n",
    "fo.write(\" anjan\")\n",
    "fo.seek(0,0)\n",
    "print fo.read()\n",
    "fo.seek(0,2)\n",
    "fo.write(\"1234 \")\n",
    "fo.seek(0,0)\n",
    "print fo.read()\n",
    "fo.close()"
   ]
  },
  {
   "cell_type": "code",
   "execution_count": 3,
   "metadata": {},
   "outputs": [
    {
     "name": "stdout",
     "output_type": "stream",
     "text": [
      "BOF <---> COF :  0\n",
      "SET the cursor at EOF\n",
      "EOF <---> COF :  67\n",
      "Move Forward 10 character from BOF\n",
      "COF :  10\n",
      "Move Forward 10 character from COF\n",
      "COF :  20\n",
      "Move Backward 5 character from COF\n",
      "COF :  15\n",
      "Move Backward 10 character from EOF\n",
      "COF :  57\n"
     ]
    }
   ],
   "source": [
    "# seek(arg1 , arg2)\n",
    "'''\n",
    "arg1 --->> move the cursor forword ( +ve ) / backward direction( -ve)\n",
    "arg2 -->> to set the cursor  ( 0 --->> BOF  ,  2 --->> EOF , 1 --->>COF)\n",
    "'''\n",
    "fo = open(\"sample2.txt\",\"r\")\n",
    "print \"BOF <---> COF : \",fo.tell()  # 0\n",
    "print \"SET the cursor at EOF\"\n",
    "fo.seek(0,2) # setting the cursor at EOF\n",
    "print \"EOF <---> COF : \",fo.tell()  # 67\n",
    "print \"Move Forward 10 character from BOF\"\n",
    "fo.seek(10,0) # 10\n",
    "print \"COF : \",fo.tell()  # 10\n",
    "print \"Move Forward 10 character from COF\"\n",
    "fo.seek(10,1) # 20\n",
    "print \"COF : \",fo.tell()  # 20\n",
    "print \"Move Backward 5 character from COF\"\n",
    "fo.seek(-5,1) # 15\n",
    "print \"COF : \",fo.tell()  # 15\n",
    "print \"Move Backward 10 character from EOF\"\n",
    "fo.seek(-10,2) # 56\n",
    "print \"COF : \",fo.tell()  # 57\n",
    "fo.close()"
   ]
  },
  {
   "cell_type": "code",
   "execution_count": 5,
   "metadata": {},
   "outputs": [
    {
     "name": "stdout",
     "output_type": "stream",
     "text": [
      "['__class__', '__delattr__', '__doc__', '__enter__', '__exit__', '__format__', '__getattribute__', '__hash__', '__init__', '__iter__', '__new__', '__reduce__', '__reduce_ex__', '__repr__', '__setattr__', '__sizeof__', '__str__', '__subclasshook__', 'close', 'closed', 'encoding', 'errors', 'fileno', 'flush', 'isatty', 'mode', 'name', 'newlines', 'next', 'read', 'readinto', 'readline', 'readlines', 'seek', 'softspace', 'tell', 'truncate', 'write', 'writelines', 'xreadlines']\n"
     ]
    }
   ],
   "source": [
    "fo = open(\"sample.txt\",\"w\")\n",
    "print dir(fo)"
   ]
  },
  {
   "cell_type": "code",
   "execution_count": 7,
   "metadata": {},
   "outputs": [
    {
     "name": "stdout",
     "output_type": "stream",
     "text": [
      "enter some data : \"Anjan Kumar Python  Trainer\"\n",
      "enter find : \"Python\"\n",
      "enter replace str : \"Cpp & C\"\n",
      "before replace :  Anjan Kumar Python  Trainer\n",
      "after replace  :  Anjan Kumar Cpp & C  Trainer\n"
     ]
    }
   ],
   "source": [
    "fo = open(\"sample5.txt\",\"w+\")\n",
    "data =input(\"enter some data : \")\n",
    "fo.write(data)\n",
    "fo.seek(0,0)\n",
    "file_read = fo.read()\n",
    "find_str = input(\"enter find : \")\n",
    "if(find_str  in file_read):\n",
    "    replace_str = input(\"enter replace str : \")\n",
    "    file_replace = file_read.replace(find_str,replace_str)\n",
    "    fo.seek(0,0)\n",
    "    fo.write(file_replace)\n",
    "else:\n",
    "    print \"No data found\"\n",
    "fo.seek(0,0)\n",
    "print \"before replace : \",file_read\n",
    "print \"after replace  : \",fo.read()\n",
    "fo.close()"
   ]
  },
  {
   "cell_type": "code",
   "execution_count": 8,
   "metadata": {},
   "outputs": [
    {
     "name": "stdout",
     "output_type": "stream",
     "text": [
      "enter some data : \"Anjan Kumar Python Trainer\"\n",
      "enter find : \"Python\"\n",
      "enter replace str : \"CPP\"\n",
      "before replace :  Anjan Kumar Python Trainer\n",
      "after replace  :  Anjan Kumar CPP Trainerner\n"
     ]
    }
   ],
   "source": [
    "fo = open(\"sample5.txt\",\"w+\")\n",
    "data =input(\"enter some data : \")\n",
    "fo.write(data)\n",
    "fo.seek(0,0)\n",
    "file_read = fo.read()\n",
    "find_str = input(\"enter find : \")\n",
    "if(find_str  in file_read):\n",
    "    replace_str = input(\"enter replace str : \")\n",
    "    file_replace = file_read.replace(find_str,replace_str)\n",
    "    fo.seek(0,0)\n",
    "    fo.write(file_replace)\n",
    "else:\n",
    "    print \"No data found\"\n",
    "fo.seek(0,0)\n",
    "print \"before replace : \",file_read\n",
    "print \"after replace  : \",fo.read()\n",
    "fo.close()"
   ]
  },
  {
   "cell_type": "code",
   "execution_count": 12,
   "metadata": {},
   "outputs": [
    {
     "name": "stdout",
     "output_type": "stream",
     "text": [
      "enter some data : \"Anjan Kumar Python Python TRainer\"\n",
      "enter find : \"Python\"\n",
      "enter replace str : \"CPP\"\n",
      " before replace :  Anjan Kumar Python Python TRainer\n",
      "after replace  :  Anjan Kumar CPP CPP TRainer\n"
     ]
    }
   ],
   "source": [
    "fo = open(\"sample5.txt\",\"a+\")\n",
    "data =input(\"enter some data : \")\n",
    "fo.write(data)\n",
    "fo.seek(0,0)\n",
    "file_read = fo.read()\n",
    "file_read1 = file_read.split() \n",
    "find_str = input(\"enter find : \")\n",
    "\n",
    "if(find_str  in file_read1):\n",
    "    replace_str = input(\"enter replace str : \")\n",
    "    i =0\n",
    "    for str in file_read1 :\n",
    "        if(str == find_str):\n",
    "            file_read1[i]= replace_str\n",
    "        i = i+ 1\n",
    "    fo.seek(0,0)\n",
    "    file_replace = \" \".join(file_read1)\n",
    "else:\n",
    "    print \"No data found\"\n",
    "fo.seek(0,0)\n",
    "fo.close()\n",
    "##################################### replace the existing \"\"\n",
    "fo = open(\"sample5.txt\",\"w+\")\n",
    "print \"before replace : \",file_read\n",
    "fo.write(file_replace)\n",
    "fo.seek(0,0)\n",
    "print \"after replace  : \",fo.read()\n",
    "fo.close()"
   ]
  },
  {
   "cell_type": "code",
   "execution_count": 9,
   "metadata": {},
   "outputs": [
    {
     "name": "stdout",
     "output_type": "stream",
     "text": [
      "['__add__', '__class__', '__contains__', '__delattr__', '__delitem__', '__delslice__', '__doc__', '__eq__', '__format__', '__ge__', '__getattribute__', '__getitem__', '__getslice__', '__gt__', '__hash__', '__iadd__', '__imul__', '__init__', '__iter__', '__le__', '__len__', '__lt__', '__mul__', '__ne__', '__new__', '__reduce__', '__reduce_ex__', '__repr__', '__reversed__', '__rmul__', '__setattr__', '__setitem__', '__setslice__', '__sizeof__', '__str__', '__subclasshook__', 'append', 'count', 'extend', 'index', 'insert', 'pop', 'remove', 'reverse', 'sort']\n"
     ]
    }
   ],
   "source": [
    "print (dir(list))"
   ]
  },
  {
   "cell_type": "code",
   "execution_count": null,
   "metadata": {},
   "outputs": [],
   "source": []
  }
 ],
 "metadata": {
  "kernelspec": {
   "display_name": "Python 2",
   "language": "python",
   "name": "python2"
  },
  "language_info": {
   "codemirror_mode": {
    "name": "ipython",
    "version": 2
   },
   "file_extension": ".py",
   "mimetype": "text/x-python",
   "name": "python",
   "nbconvert_exporter": "python",
   "pygments_lexer": "ipython2",
   "version": "2.7.16"
  }
 },
 "nbformat": 4,
 "nbformat_minor": 2
}
