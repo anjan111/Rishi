{
 "cells": [
  {
   "cell_type": "code",
   "execution_count": 1,
   "metadata": {},
   "outputs": [
    {
     "name": "stdout",
     "output_type": "stream",
     "text": [
      "hello\n",
      "hai\n",
      "bye\n"
     ]
    }
   ],
   "source": [
    "print \"hello\"\n",
    "print \"hai\"\n",
    "print \"bye\""
   ]
  },
  {
   "cell_type": "code",
   "execution_count": 2,
   "metadata": {},
   "outputs": [
    {
     "name": "stdout",
     "output_type": "stream",
     "text": [
      "hello\n",
      "hai\n",
      "123\n",
      "bye\n"
     ]
    }
   ],
   "source": [
    "# syntax\n",
    "'''\n",
    "The structure / Rules  for writing a program\n",
    "'''\n",
    "# Program\n",
    "'''\n",
    "==>>Collection of instructions to do any one specific task by computure\n",
    "'''\n",
    "\n",
    "# instructions\n",
    "'''\n",
    "==>> A line of code with in the program\n",
    "'''\n",
    "\n",
    "# Types of instructions\n",
    "'''\n",
    "==>>>> comments ---->>>An instruction which can't be executable\n",
    "\n",
    "==>>>> Statements--->> An instructions which can be executbale\n",
    "\n",
    "'''\n",
    "# single line comment  \n",
    "'''\n",
    "This is\n",
    "multiline comment\n",
    "'''\n",
    "print \"hello\"\n",
    "print \"hai\"\n",
    "var  =123\n",
    "print var\n",
    "print \"bye\"\n"
   ]
  },
  {
   "cell_type": "code",
   "execution_count": 3,
   "metadata": {},
   "outputs": [
    {
     "name": "stdout",
     "output_type": "stream",
     "text": [
      "31\n",
      "['and', 'as', 'assert', 'break', 'class', 'continue', 'def', 'del', 'elif', 'else', 'except', 'exec', 'finally', 'for', 'from', 'global', 'if', 'import', 'in', 'is', 'lambda', 'not', 'or', 'pass', 'print', 'raise', 'return', 'try', 'while', 'with', 'yield']\n"
     ]
    }
   ],
   "source": [
    "#keywords\n",
    "'''\n",
    "=> Pre definend words\n",
    "=> Each and every keyword which having its own specific task\n",
    "\n",
    "keyword lib file  --->>  kwlist --->> which contains all keyword\n",
    "'''\n",
    "import keyword\n",
    "print len(keyword.kwlist)\n",
    "print keyword.kwlist"
   ]
  },
  {
   "cell_type": "code",
   "execution_count": null,
   "metadata": {},
   "outputs": [],
   "source": [
    "# and  --->> which can used for logical and operation\n",
    "# as   --->> which is used for to alias of any thing\n",
    "# assert --> which can used for condition checking \n",
    "# break -->> to stop loop iteration\n",
    "# class -->> To create any new class\n",
    "# continue -> to skip the present iteration with in the loops and continue next iteration\n",
    "# def    -->> to create a user defining functions\n",
    "# del    ---> to delete any objects / variables\n",
    "# elif  --->> to create elif ladder conditional statement\n",
    "# else  -->> to do the task when all options failed \n",
    "# except -->> to handle the exception\n",
    "# exec  --->\n",
    "# finally --->> with in exception hanlding concepts  \n",
    "# for  --->> to create a loop\n",
    "# global -->> create the global variable\n",
    "# if   ---->> create conditional statement\n",
    "# import -->> importing the modules / package ( libries )\n",
    "# in   --->>  membership operation\n",
    "# is   --->>  identity operation\n",
    "# lambda --> create a namelesss  function\n",
    "# not  --->> logical not operation\n",
    "# or   --->> logical or  operation\n",
    "# pass  ---> create a dummy blocks\n",
    "# print  --> displaying anything on screen\n",
    "# raise ---> raising the exception \n",
    "#  try -->> to check the runtime error( exception)\n",
    "# while --> to create a loops\n",
    "# with --> blocks names\n",
    "# yield -->>generator\n",
    "# return --> which return o function call from defination only one time and then stop the function execution"
   ]
  },
  {
   "cell_type": "code",
   "execution_count": 4,
   "metadata": {},
   "outputs": [
    {
     "name": "stdout",
     "output_type": "stream",
     "text": [
      "123\n"
     ]
    },
    {
     "ename": "NameError",
     "evalue": "name 'var' is not defined",
     "output_type": "error",
     "traceback": [
      "\u001b[1;31m\u001b[0m",
      "\u001b[1;31mNameError\u001b[0mTraceback (most recent call last)",
      "\u001b[1;32m<ipython-input-4-d31d9ad4fcbb>\u001b[0m in \u001b[0;36m<module>\u001b[1;34m()\u001b[0m\n\u001b[0;32m      2\u001b[0m \u001b[1;32mprint\u001b[0m \u001b[0mvar\u001b[0m\u001b[1;33m\u001b[0m\u001b[0m\n\u001b[0;32m      3\u001b[0m \u001b[1;32mdel\u001b[0m \u001b[0mvar\u001b[0m\u001b[1;33m\u001b[0m\u001b[0m\n\u001b[1;32m----> 4\u001b[1;33m \u001b[1;32mprint\u001b[0m \u001b[0mvar\u001b[0m\u001b[1;33m\u001b[0m\u001b[0m\n\u001b[0m",
      "\u001b[1;31mNameError\u001b[0m: name 'var' is not defined"
     ]
    }
   ],
   "source": [
    "var  =  123\n",
    "print var\n",
    "del var\n",
    "print var"
   ]
  },
  {
   "cell_type": "code",
   "execution_count": 5,
   "metadata": {},
   "outputs": [
    {
     "name": "stdout",
     "output_type": "stream",
     "text": [
      "True\n",
      "False\n"
     ]
    }
   ],
   "source": [
    "print True and True\n",
    "print True and False"
   ]
  },
  {
   "cell_type": "code",
   "execution_count": 6,
   "metadata": {},
   "outputs": [
    {
     "name": "stdout",
     "output_type": "stream",
     "text": [
      "True\n",
      "False\n"
     ]
    }
   ],
   "source": [
    "print True or False\n",
    "print False or False"
   ]
  },
  {
   "cell_type": "code",
   "execution_count": 7,
   "metadata": {},
   "outputs": [
    {
     "name": "stdout",
     "output_type": "stream",
     "text": [
      "True\n",
      "False\n"
     ]
    }
   ],
   "source": [
    "print  not False\n",
    "print not True"
   ]
  },
  {
   "cell_type": "code",
   "execution_count": 9,
   "metadata": {},
   "outputs": [
    {
     "name": "stdout",
     "output_type": "stream",
     "text": [
      "True\n",
      "False\n"
     ]
    }
   ],
   "source": [
    "if True :\n",
    "    print \"True\"\n",
    "else :\n",
    "    print \"False\"\n",
    "    \n",
    "if False :\n",
    "    print \"True\"\n",
    "else :\n",
    "    print \"False\""
   ]
  },
  {
   "cell_type": "code",
   "execution_count": 1,
   "metadata": {},
   "outputs": [
    {
     "name": "stdout",
     "output_type": "stream",
     "text": [
      "452\n"
     ]
    }
   ],
   "source": [
    "# Identifier \n",
    "'''\n",
    "==>> User defined words \n",
    "==>> To give the name entities for variables , functions, classes \n",
    "'''\n",
    "# Rules \n",
    "'''\n",
    "==>> we can use alphabets   a-z / A - Z\n",
    "==>> we can use digits      0 - 9\n",
    "==>> we can use underscore  _\n",
    "==>> don't start with digit\n",
    "==>> don't use special characters\n",
    "==>> don't use keywords\n",
    "'''\n",
    "# variables\n",
    "'''\n",
    "=> which are the names to hold the data\n",
    "=> we can directly assign the data to the variable\n",
    "'''\n",
    "var = 452\n",
    "print var"
   ]
  },
  {
   "cell_type": "code",
   "execution_count": 2,
   "metadata": {},
   "outputs": [
    {
     "ename": "SyntaxError",
     "evalue": "invalid syntax (<ipython-input-2-fc7cd0ed09e5>, line 1)",
     "output_type": "error",
     "traceback": [
      "\u001b[1;36m  File \u001b[1;32m\"<ipython-input-2-fc7cd0ed09e5>\"\u001b[1;36m, line \u001b[1;32m1\u001b[0m\n\u001b[1;33m    4var = 234\u001b[0m\n\u001b[1;37m       ^\u001b[0m\n\u001b[1;31mSyntaxError\u001b[0m\u001b[1;31m:\u001b[0m invalid syntax\n"
     ]
    }
   ],
   "source": [
    "4var = 234"
   ]
  },
  {
   "cell_type": "code",
   "execution_count": 3,
   "metadata": {},
   "outputs": [
    {
     "ename": "SyntaxError",
     "evalue": "invalid syntax (<ipython-input-3-e1dba634ee74>, line 1)",
     "output_type": "error",
     "traceback": [
      "\u001b[1;36m  File \u001b[1;32m\"<ipython-input-3-e1dba634ee74>\"\u001b[1;36m, line \u001b[1;32m1\u001b[0m\n\u001b[1;33m    del  = 123\u001b[0m\n\u001b[1;37m         ^\u001b[0m\n\u001b[1;31mSyntaxError\u001b[0m\u001b[1;31m:\u001b[0m invalid syntax\n"
     ]
    }
   ],
   "source": [
    "del  = 123"
   ]
  },
  {
   "cell_type": "code",
   "execution_count": 4,
   "metadata": {},
   "outputs": [
    {
     "ename": "SyntaxError",
     "evalue": "invalid syntax (<ipython-input-4-a42c318462f7>, line 1)",
     "output_type": "error",
     "traceback": [
      "\u001b[1;36m  File \u001b[1;32m\"<ipython-input-4-a42c318462f7>\"\u001b[1;36m, line \u001b[1;32m1\u001b[0m\n\u001b[1;33m    d@r =  123\u001b[0m\n\u001b[1;37m     ^\u001b[0m\n\u001b[1;31mSyntaxError\u001b[0m\u001b[1;31m:\u001b[0m invalid syntax\n"
     ]
    }
   ],
   "source": [
    "d@r =  123"
   ]
  },
  {
   "cell_type": "code",
   "execution_count": 5,
   "metadata": {},
   "outputs": [
    {
     "name": "stdout",
     "output_type": "stream",
     "text": [
      "123\n"
     ]
    }
   ],
   "source": [
    "_var = 123\n",
    "print _var"
   ]
  },
  {
   "cell_type": "code",
   "execution_count": 6,
   "metadata": {},
   "outputs": [
    {
     "name": "stdout",
     "output_type": "stream",
     "text": [
      "<type 'int'>\n",
      "<type 'int'>\n",
      "<type 'int'>\n"
     ]
    }
   ],
   "source": [
    "# Datatypes :-\n",
    "'''\n",
    "==>>> The variable are always holding some data \n",
    "==>>> we can able to specify the what type of data holded by variable\n",
    "'''\n",
    "#fundamental datatype\n",
    "'''\n",
    "==>> A single variable can hold single data\n",
    "1. int\n",
    "2. float\n",
    "3. complex\n",
    "4. None\n",
    "5. bool\n",
    "'''\n",
    "# seqencial datatype\n",
    "'''\n",
    "==>> A single variable can hold multiple data elements\n",
    "1. str\n",
    "2. list\n",
    "3. tuple\n",
    "4. set\n",
    "5. dict\n",
    "'''\n",
    "var = 124\n",
    "print type(var)\n",
    "var = 0\n",
    "print type(var)\n",
    "var = -124\n",
    "print type(var)"
   ]
  },
  {
   "cell_type": "code",
   "execution_count": 7,
   "metadata": {},
   "outputs": [
    {
     "name": "stdout",
     "output_type": "stream",
     "text": [
      "<type 'float'>\n",
      "<type 'float'>\n",
      "<type 'float'>\n"
     ]
    }
   ],
   "source": [
    "var = 12.4\n",
    "print type(var)\n",
    "var = 0.0\n",
    "print type(var)\n",
    "var = -124.55455\n",
    "print type(var)"
   ]
  },
  {
   "cell_type": "code",
   "execution_count": 8,
   "metadata": {},
   "outputs": [
    {
     "name": "stdout",
     "output_type": "stream",
     "text": [
      "<type 'complex'>\n",
      "<type 'complex'>\n"
     ]
    }
   ],
   "source": [
    "# complex -->> real + img  ==>>   X + Yj\n",
    "var = 12 + 34j\n",
    "print type(var)\n",
    "var = 0.234 + 3.445j\n",
    "print type(var)"
   ]
  },
  {
   "cell_type": "code",
   "execution_count": 9,
   "metadata": {},
   "outputs": [
    {
     "name": "stdout",
     "output_type": "stream",
     "text": [
      "<type 'NoneType'>\n",
      "<type 'bool'>\n",
      "<type 'bool'>\n"
     ]
    }
   ],
   "source": [
    "var = None\n",
    "print type(var)\n",
    "\n",
    "var = True\n",
    "print type(var)\n",
    "\n",
    "var =  False\n",
    "print type(var)\n"
   ]
  },
  {
   "cell_type": "code",
   "execution_count": 10,
   "metadata": {},
   "outputs": [
    {
     "name": "stdout",
     "output_type": "stream",
     "text": [
      "<type 'str'>\n",
      "<type 'str'>\n"
     ]
    }
   ],
   "source": [
    "# str ==>> \"group of character\"\n",
    "var = \"3355\"\n",
    "print type(var)\n",
    "var =\"dsfsdfJHUG24$%\"\n",
    "print type(var)"
   ]
  },
  {
   "cell_type": "code",
   "execution_count": 11,
   "metadata": {},
   "outputs": [
    {
     "name": "stdout",
     "output_type": "stream",
     "text": [
      "<type 'list'>\n"
     ]
    }
   ],
   "source": [
    "# list ===>  []\n",
    "var = [12, 3.234, 5+3j]\n",
    "print type(var)"
   ]
  },
  {
   "cell_type": "code",
   "execution_count": 12,
   "metadata": {},
   "outputs": [
    {
     "name": "stdout",
     "output_type": "stream",
     "text": [
      "<type 'tuple'>\n"
     ]
    }
   ],
   "source": [
    "# tuple ===>> ()\n",
    "var = (12, 3.234, 5+3j)\n",
    "print type(var)"
   ]
  },
  {
   "cell_type": "code",
   "execution_count": 13,
   "metadata": {},
   "outputs": [
    {
     "name": "stdout",
     "output_type": "stream",
     "text": [
      "<type 'set'>\n"
     ]
    }
   ],
   "source": [
    "# set  ---> {}\n",
    "var = {12,7.34, 4+2j,\"123\"}\n",
    "print type(var)"
   ]
  },
  {
   "cell_type": "code",
   "execution_count": 14,
   "metadata": {},
   "outputs": [
    {
     "name": "stdout",
     "output_type": "stream",
     "text": [
      "<type 'dict'>\n"
     ]
    }
   ],
   "source": [
    "# dict ---> {key1 : value1 , key2 : valu2 }\n",
    "var = {12:\"soc\" , 56.45 : \"soft\"}\n",
    "print type(var)"
   ]
  },
  {
   "cell_type": "code",
   "execution_count": 15,
   "metadata": {},
   "outputs": [
    {
     "name": "stdout",
     "output_type": "stream",
     "text": [
      "enter int : 7865\n",
      "data :  7865\n",
      "<type 'int'>\n",
      "memory :  79028744\n"
     ]
    }
   ],
   "source": [
    "# input() --->>  reading data from keyboard\n",
    "# print  ---->> display the data on monitor\n",
    "# id()   --->>  to know the memory loc\n",
    "# type() --->>  to know the datatype \n",
    "\n",
    "# wap  read int by input and display data, memory , type of it\n",
    "var = input(\"enter int : \")\n",
    "print \"data : \",var\n",
    "print type(var)\n",
    "print \"memory : \",id(var)"
   ]
  },
  {
   "cell_type": "code",
   "execution_count": 16,
   "metadata": {},
   "outputs": [
    {
     "name": "stdout",
     "output_type": "stream",
     "text": [
      "enter float : 12.34412\n",
      "data :  12.34412\n",
      "<type 'float'>\n",
      "memory :  79022840\n"
     ]
    }
   ],
   "source": [
    "# wap  read float by input and display data, memory , type of it\n",
    "var = input(\"enter float : \")\n",
    "print \"data : \",var\n",
    "print type(var)\n",
    "print \"memory : \",id(var)"
   ]
  },
  {
   "cell_type": "code",
   "execution_count": 17,
   "metadata": {},
   "outputs": [
    {
     "name": "stdout",
     "output_type": "stream",
     "text": [
      "enter some data : \"anjan Kumar\"\n",
      "data in name var :  anjan Kumar\n",
      "memory : 86388000\n",
      "<type 'str'>\n"
     ]
    }
   ],
   "source": [
    "name  = input(\"enter some data : \")\n",
    "print \"data in name var : \",name\n",
    "print \"memory :\",id(name)\n",
    "print type(name)"
   ]
  },
  {
   "cell_type": "code",
   "execution_count": null,
   "metadata": {},
   "outputs": [],
   "source": []
  }
 ],
 "metadata": {
  "kernelspec": {
   "display_name": "Python 2",
   "language": "python",
   "name": "python2"
  },
  "language_info": {
   "codemirror_mode": {
    "name": "ipython",
    "version": 2
   },
   "file_extension": ".py",
   "mimetype": "text/x-python",
   "name": "python",
   "nbconvert_exporter": "python",
   "pygments_lexer": "ipython2",
   "version": "2.7.16"
  }
 },
 "nbformat": 4,
 "nbformat_minor": 2
}
