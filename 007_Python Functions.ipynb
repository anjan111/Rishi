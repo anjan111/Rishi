{
 "cells": [
  {
   "cell_type": "code",
   "execution_count": null,
   "metadata": {},
   "outputs": [],
   "source": [
    "# function \n",
    "'''\n",
    "==>> Collection of statement to do any one specific task with in the program\n",
    "\n",
    "==>> There are 2 types \n",
    "\n",
    "1. Pre defined function\n",
    "\n",
    "----->>> The functions are already defined in side of the python\n",
    "----->>> input(), raw_input , type , id , int() , float()  etc\n",
    "\n",
    "2. User Defined Function\n",
    "\n",
    "---->>> The Functions are defined by programmer\n",
    "---->>> We need 2 functional Components\n",
    "\n",
    "1. function defination\n",
    "------>> To write the logic\n",
    "2. function call\n",
    "------->> To execute the logic of the Task\n",
    "'''\n",
    "# def  ---> keyword ---> function defination\n",
    "\n",
    "# function defination\n",
    "def  fun_name():\n",
    "    '''\n",
    "    Task \n",
    "    '''\n",
    "    pass\n",
    "fun_name() # function call"
   ]
  },
  {
   "cell_type": "code",
   "execution_count": 2,
   "metadata": {},
   "outputs": [
    {
     "name": "stdout",
     "output_type": "stream",
     "text": [
      "enter num : 5\n",
      "5  factorial is :  120\n",
      "enter num : 6\n",
      "6  factorial is :  720\n"
     ]
    }
   ],
   "source": [
    "# wap for factorial of number\n",
    "def factorial():\n",
    "    num = input(\"enter num : \")\n",
    "    fact = 1\n",
    "    for ele in range(2, num+1):\n",
    "        fact =  fact * ele\n",
    "    else:\n",
    "        print num,\" factorial is : \",fact\n",
    "factorial()\n",
    "factorial()"
   ]
  },
  {
   "cell_type": "code",
   "execution_count": 3,
   "metadata": {},
   "outputs": [
    {
     "name": "stdout",
     "output_type": "stream",
     "text": [
      "enter num : 7\n",
      "7  factorial is :  5040\n",
      "enter num : 5\n",
      "5  factorial is :  120\n"
     ]
    }
   ],
   "source": [
    "# wap for factorial of number\n",
    "# arguments\n",
    "'''\n",
    "we can send the data from function call to function defination\n",
    "'''\n",
    "def factorial(num):\n",
    "    fact = 1\n",
    "    for ele in range(2, num+1):\n",
    "        fact =  fact * ele\n",
    "    else:\n",
    "        print num,\" factorial is : \",fact\n",
    "N = input(\"enter num : \")\n",
    "factorial(N)\n",
    "N = input(\"enter num : \")\n",
    "factorial(N)"
   ]
  },
  {
   "cell_type": "code",
   "execution_count": 4,
   "metadata": {},
   "outputs": [
    {
     "name": "stdout",
     "output_type": "stream",
     "text": [
      "arg1 :  10\n",
      "arg2 :  123\n",
      "arg3 :  22\n"
     ]
    }
   ],
   "source": [
    "def fun(arg1 , arg2 , arg3):\n",
    "    print \"arg1 : \",arg1\n",
    "    print \"arg2 : \",arg2\n",
    "    print \"arg3 : \",arg3\n",
    "num =123\n",
    "fun(10,num,4*5+2)"
   ]
  },
  {
   "cell_type": "code",
   "execution_count": 5,
   "metadata": {},
   "outputs": [
    {
     "ename": "TypeError",
     "evalue": "fun() takes exactly 3 arguments (0 given)",
     "output_type": "error",
     "traceback": [
      "\u001b[1;31m---------------------------------------------------------------------------\u001b[0m",
      "\u001b[1;31mTypeError\u001b[0m                                 Traceback (most recent call last)",
      "\u001b[1;32m<ipython-input-5-401da068d9cc>\u001b[0m in \u001b[0;36m<module>\u001b[1;34m()\u001b[0m\n\u001b[0;32m      5\u001b[0m     \u001b[1;32mprint\u001b[0m \u001b[1;34m\"arg3 : \"\u001b[0m\u001b[1;33m,\u001b[0m\u001b[0marg3\u001b[0m\u001b[1;33m\u001b[0m\u001b[0m\n\u001b[0;32m      6\u001b[0m \u001b[1;33m\u001b[0m\u001b[0m\n\u001b[1;32m----> 7\u001b[1;33m \u001b[0mfun\u001b[0m\u001b[1;33m(\u001b[0m\u001b[1;33m)\u001b[0m\u001b[1;33m\u001b[0m\u001b[0m\n\u001b[0m",
      "\u001b[1;31mTypeError\u001b[0m: fun() takes exactly 3 arguments (0 given)"
     ]
    }
   ],
   "source": [
    "# default argument\n",
    "def fun(arg1 , arg2 , arg3):\n",
    "    print \"arg1 : \",arg1\n",
    "    print \"arg2 : \",arg2\n",
    "    print \"arg3 : \",arg3\n",
    "\n",
    "fun()"
   ]
  },
  {
   "cell_type": "code",
   "execution_count": 10,
   "metadata": {},
   "outputs": [
    {
     "name": "stdout",
     "output_type": "stream",
     "text": [
      "arg1 :  (1, 2, 3)\n",
      "arg2 :  soc\n",
      "arg3 :  10\n",
      "arg1 :  (1, 2, 3)\n",
      "arg2 :  soc\n",
      "arg3 :  567\n"
     ]
    }
   ],
   "source": [
    "# default argument\n",
    "def fun(arg1 = (1,2,3) , arg2 =\"soc\", arg3=567):\n",
    "    print \"arg1 : \",arg1\n",
    "    print \"arg2 : \",arg2\n",
    "    print \"arg3 : \",arg3\n",
    "\n",
    "fun(arg3 =10)\n",
    "fun()"
   ]
  },
  {
   "cell_type": "code",
   "execution_count": 12,
   "metadata": {},
   "outputs": [
    {
     "name": "stdout",
     "output_type": "stream",
     "text": [
      "hello\n",
      "hai\n",
      "bye\n"
     ]
    }
   ],
   "source": [
    "# return  ---> to terminae the function defination\n",
    "def fun():\n",
    "    print \"hello\"\n",
    "    print \"hai\"\n",
    "    print\"bye\"\n",
    "fun()"
   ]
  },
  {
   "cell_type": "code",
   "execution_count": 13,
   "metadata": {},
   "outputs": [
    {
     "name": "stdout",
     "output_type": "stream",
     "text": [
      "hello\n"
     ]
    }
   ],
   "source": [
    "# return  ---> to terminae the function defination\n",
    "def fun():\n",
    "    print \"hello\"\n",
    "    return\n",
    "    print \"hai\"\n",
    "    print\"bye\"\n",
    "fun()"
   ]
  },
  {
   "cell_type": "code",
   "execution_count": 14,
   "metadata": {},
   "outputs": [
    {
     "name": "stdout",
     "output_type": "stream",
     "text": [
      "hello\n",
      "123\n"
     ]
    }
   ],
   "source": [
    "# return  ---> return the data from function defination\n",
    "def fun():\n",
    "    print \"hello\"\n",
    "    return 123\n",
    "    print \"hai\"\n",
    "    print\"bye\"\n",
    "var = fun()\n",
    "print var"
   ]
  },
  {
   "cell_type": "code",
   "execution_count": 16,
   "metadata": {},
   "outputs": [
    {
     "name": "stdout",
     "output_type": "stream",
     "text": [
      "enter 5\n",
      "5 is prime :  True\n",
      "enter 6\n",
      "6 is prime :  False\n",
      "enter 0\n",
      "0 is prime :  None\n",
      "enter 45.34\n",
      "45.34 is prime :  please send the int agurmnt\n",
      "45.34 is prime :  please send the agrument\n"
     ]
    }
   ],
   "source": [
    "# wap find the given number is prime or not\n",
    "def isprime(num =None):\n",
    "    if(num == None):\n",
    "        return \"please send the agrument\"\n",
    "    elif(not isinstance(num,int)):\n",
    "        return \"please send the int agurmnt\"\n",
    "    elif(num<1):\n",
    "        return None\n",
    "    else:\n",
    "        for i in range(2, num):\n",
    "            if(num % i==0):\n",
    "                return False\n",
    "        else:\n",
    "            return True\n",
    "N= input(\"enter \")\n",
    "print N,\"is prime : \",isprime(N)\n",
    "N= input(\"enter \")\n",
    "print N,\"is prime : \",isprime(N)\n",
    "N= input(\"enter \")\n",
    "print N,\"is prime : \",isprime(N)\n",
    "N= input(\"enter \")\n",
    "print N,\"is prime : \",isprime(N)\n",
    "print N,\"is prime : \",isprime()"
   ]
  },
  {
   "cell_type": "code",
   "execution_count": null,
   "metadata": {},
   "outputs": [],
   "source": [
    "# Python Program Structure\n",
    "def user_fun1():\n",
    "    pass\n",
    "def user_fun2():\n",
    "    pass\n",
    "def user_fun3():\n",
    "    pass\n",
    "def main():\n",
    "    pass\n",
    "if __name__ == \"__main__\":\n",
    "    main()"
   ]
  },
  {
   "cell_type": "code",
   "execution_count": 1,
   "metadata": {},
   "outputs": [],
   "source": [
    "\n",
    "def add(a = None , b = None):\n",
    "    x = a\n",
    "    y = b\n",
    "    return x+y\n",
    "def sub(a = None , b = None):\n",
    "    x = a\n",
    "    y = b\n",
    "    return x-y\n",
    "def mul(a = None , b = None):\n",
    "    x = a\n",
    "    y = b\n",
    "    return x*y\n",
    "def main():\n",
    "    a = input(\"enter a : \")\n",
    "    b = input(\"ener b  : \")\n",
    "    print a,\" + \",b ,\" = \", add(a,b)\n",
    "    print a,\" * \",b ,\" = \", mul(a,b)\n",
    "    print a,\" - \",b ,\" = \", sub(a,b)"
   ]
  },
  {
   "cell_type": "code",
   "execution_count": 2,
   "metadata": {},
   "outputs": [
    {
     "name": "stdout",
     "output_type": "stream",
     "text": [
      "enter a : 789\n",
      "ener b  : 20\n",
      "789  +  20  =  809\n",
      "789  *  20  =  15780\n",
      "789  -  20  =  769\n"
     ]
    }
   ],
   "source": [
    "\n",
    "def add(a = None , b = None):\n",
    "    x = a\n",
    "    y = b\n",
    "    return x+y\n",
    "def sub(a = None , b = None):\n",
    "    x = a\n",
    "    y = b\n",
    "    return x-y\n",
    "def mul(a = None , b = None):\n",
    "    x = a\n",
    "    y = b\n",
    "    return x*y\n",
    "def main():\n",
    "    a = input(\"enter a : \")\n",
    "    b = input(\"ener b  : \")\n",
    "    print a,\" + \",b ,\" = \", add(a,b)\n",
    "    print a,\" * \",b ,\" = \", mul(a,b)\n",
    "    print a,\" - \",b ,\" = \", sub(a,b)\n",
    "if __name__ ==\"__main__\":\n",
    "    main()"
   ]
  },
  {
   "cell_type": "code",
   "execution_count": null,
   "metadata": {},
   "outputs": [],
   "source": [
    "# write 3 functions factorial , prime , fibonic \n",
    "def factorial(num = None):\n",
    "    pass\n",
    "def isprime(num = None):\n",
    "    pass\n",
    "def fibonic(num = None):\n",
    "    pass\n",
    "def main():\n",
    "    N = input(\"enter N : \")\n",
    "    print N, \" factorial : \",factorial(N)\n",
    "    print N,\" is Prime  : \", isprime(N)\n",
    "    fibonic(N)\n",
    "\n",
    "if __name__ == \"__main__\" :\n",
    "    \n",
    "    main()"
   ]
  },
  {
   "cell_type": "code",
   "execution_count": null,
   "metadata": {},
   "outputs": [],
   "source": [
    "def  str_len(str = None):\n",
    "    pass\n",
    "def str_rec(str = None):\n",
    "    pass\n",
    "def str_count(str = None):  # \"pypn\" --->>  {  \"p\" : 2 , \"y\":1 , \"n\" : 1}\n",
    "    pass\n",
    "def main():\n",
    "    pass\n",
    "if __name__ == \"__main__\":\n",
    "    main()"
   ]
  }
 ],
 "metadata": {
  "kernelspec": {
   "display_name": "Python 2",
   "language": "python",
   "name": "python2"
  },
  "language_info": {
   "codemirror_mode": {
    "name": "ipython",
    "version": 2
   },
   "file_extension": ".py",
   "mimetype": "text/x-python",
   "name": "python",
   "nbconvert_exporter": "python",
   "pygments_lexer": "ipython2",
   "version": "2.7.16"
  }
 },
 "nbformat": 4,
 "nbformat_minor": 2
}
