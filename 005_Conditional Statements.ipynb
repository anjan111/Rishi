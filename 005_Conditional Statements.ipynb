{
 "cells": [
  {
   "cell_type": "code",
   "execution_count": 1,
   "metadata": {},
   "outputs": [
    {
     "name": "stdout",
     "output_type": "stream",
     "text": [
      "Welcome to Voter id Center\n",
      "enter age of you in years  : 17\n",
      "Thanks for visiting the Voter id Center\n"
     ]
    }
   ],
   "source": [
    "# simple if \n",
    "# wap for applyting voter id application\n",
    "print \"Welcome to Voter id Center\"\n",
    "age = input(\"enter age of you in years  : \")\n",
    "if( age >= 18):\n",
    "    print \"Your elgible for voter id application\"\n",
    "    Name = input(\"enter Name : \")\n",
    "    phone = input(\"enter Phone : \")\n",
    "print \"Thanks for visiting the Voter id Center\""
   ]
  },
  {
   "cell_type": "code",
   "execution_count": 2,
   "metadata": {},
   "outputs": [
    {
     "name": "stdout",
     "output_type": "stream",
     "text": [
      "Welcome to Voter id Center\n",
      "enter age of you in years  : 19\n",
      "Your elgible for voter id application\n",
      "enter Name : \"Anjan\"\n",
      "enter Phone : 45678909876\n",
      "Thanks for visiting the Voter id Center\n"
     ]
    }
   ],
   "source": [
    "# simple if \n",
    "# wap for applyting voter id application\n",
    "print \"Welcome to Voter id Center\"\n",
    "age = input(\"enter age of you in years  : \")\n",
    "if( age >= 18):\n",
    "    print \"Your elgible for voter id application\"\n",
    "    Name = input(\"enter Name : \")\n",
    "    phone = input(\"enter Phone : \")\n",
    "print \"Thanks for visiting the Voter id Center\""
   ]
  },
  {
   "cell_type": "code",
   "execution_count": 4,
   "metadata": {},
   "outputs": [
    {
     "name": "stdout",
     "output_type": "stream",
     "text": [
      "enter side 1 : 12\n",
      "enter side 2 : 34\n",
      "enter side 3 : 12\n",
      "Task over\n"
     ]
    }
   ],
   "source": [
    "# wap find the area of triangle when the triangle id quiletaral triangle \n",
    "a = input(\"enter side 1 : \")\n",
    "b = input(\"enter side 2 : \")\n",
    "c = input(\"enter side 3 : \")\n",
    "if ( a == b and b == c):\n",
    "    s = (a+b+c)/2.0\n",
    "    area = (s*(s-a)*(s-b)*(s-c))**0.5\n",
    "    print \"area : \",area\n",
    "print \"Task over\""
   ]
  },
  {
   "cell_type": "code",
   "execution_count": 5,
   "metadata": {},
   "outputs": [
    {
     "name": "stdout",
     "output_type": "stream",
     "text": [
      "enter side 1 : 12\n",
      "enter side 2 : 12\n",
      "enter side 3 : 12\n",
      "area :  62.3538290725\n",
      "Task over\n"
     ]
    }
   ],
   "source": [
    "# wap find the area of triangle when the triangle id quiletaral triangle \n",
    "a = input(\"enter side 1 : \")\n",
    "b = input(\"enter side 2 : \")\n",
    "c = input(\"enter side 3 : \")\n",
    "if ( a == b and b == c):\n",
    "    s = (a+b+c)/2.0\n",
    "    area = (s*(s-a)*(s-b)*(s-c))**0.5\n",
    "    print \"area : \",area\n",
    "print \"Task over\""
   ]
  },
  {
   "cell_type": "code",
   "execution_count": null,
   "metadata": {},
   "outputs": [],
   "source": [
    "# wap find area of square when enter side is float data\n",
    "# wap find the simple intrest when rate of intrest is below the 4"
   ]
  },
  {
   "cell_type": "code",
   "execution_count": 1,
   "metadata": {},
   "outputs": [
    {
     "name": "stdout",
     "output_type": "stream",
     "text": [
      "enter a : 4\n",
      "enter b : 3\n",
      "enter c : 4\n",
      "peri :  11\n"
     ]
    }
   ],
   "source": [
    "#  if and else\n",
    "'''\n",
    "start\n",
    "----\n",
    "if ( cond ):\n",
    "   Task1\n",
    "   -----\n",
    "   -----\n",
    "else:\n",
    "   Task2\n",
    "   -----\n",
    "   -----\n",
    "stop\n",
    "----\n",
    "----\n",
    "   \n",
    "'''\n",
    "# wap find the area of triangle when any one side is more than 5  otherwise find the perimter\n",
    "\n",
    "a = input(\"enter a : \")\n",
    "b = input(\"enter b : \")\n",
    "c = input(\"enter c : \")\n",
    "if( a >5 or b > 5  or c > 5):\n",
    "    s = (a+b+c)/2.0\n",
    "    area = (s*(s-a)*(s-b)*(s-c))**0.5\n",
    "    print \"area \", area\n",
    "else:\n",
    "    peri = (a+b+c)\n",
    "    print \"peri : \",peri\n"
   ]
  },
  {
   "cell_type": "code",
   "execution_count": 5,
   "metadata": {},
   "outputs": [
    {
     "name": "stdout",
     "output_type": "stream",
     "text": [
      "enter a : 6\n",
      "enter b : 8\n",
      "enter c : 9\n",
      "area  23.5252523897\n"
     ]
    }
   ],
   "source": [
    "# wap find the area of triangle when any one side is more than 5  otherwise find the perimter\n",
    "\n",
    "a = input(\"enter a : \")\n",
    "b = input(\"enter b : \")\n",
    "c = input(\"enter c : \")\n",
    "if( a >5 or b > 5  or c > 5):\n",
    "    s = (a+b+c)/2.0\n",
    "    area = (s*(s-a)*(s-b)*(s-c))**0.5\n",
    "    print \"area \", area\n",
    "else:\n",
    "    peri = (a+b+c)\n",
    "    print \"peri : \",peri\n"
   ]
  },
  {
   "cell_type": "code",
   "execution_count": 6,
   "metadata": {},
   "outputs": [
    {
     "name": "stdout",
     "output_type": "stream",
     "text": [
      "enter num : 26\n",
      "26  its even  \n"
     ]
    }
   ],
   "source": [
    "#wap find the given number is even or odd\n",
    "num = input(\"enter num : \")\n",
    "if( num % 2  == 0 ):\n",
    "    print num ,\" its even  \"\n",
    "else:\n",
    "    print num,\" its odd\""
   ]
  },
  {
   "cell_type": "code",
   "execution_count": 7,
   "metadata": {},
   "outputs": [
    {
     "name": "stdout",
     "output_type": "stream",
     "text": [
      "enter num : 27\n",
      "27  its odd\n"
     ]
    }
   ],
   "source": [
    "#wap find the given number is even or odd\n",
    "num = input(\"enter num : \")\n",
    "if( num % 2  == 0 ):\n",
    "    print num ,\" its even  \"\n",
    "else:\n",
    "    print num,\" its odd\""
   ]
  },
  {
   "cell_type": "code",
   "execution_count": 9,
   "metadata": {},
   "outputs": [
    {
     "name": "stdout",
     "output_type": "stream",
     "text": [
      "enter exp : 5\n",
      "salary : 12.6 Lac\n"
     ]
    }
   ],
   "source": [
    "#### elif ladder\n",
    "'''\n",
    "if (C1):\n",
    "    Task1\n",
    "elif(C2):\n",
    "    Task2\n",
    "elif(C3):\n",
    "    Task3\n",
    "elif(C4):\n",
    "    Task4\n",
    "elif(C5):\n",
    "    Task5\n",
    "----\n",
    "----\n",
    "else:\n",
    "    Taskd\n",
    "'''\n",
    "# wap find fix the salary based on exp\n",
    "exp = input(\"enter exp : \")\n",
    "if( exp >0 and exp <= 2):\n",
    "    print \"salary : 3.2 Lac\"\n",
    "elif( exp >2 and exp <= 4):\n",
    "    print \"salary : 6.4 Lac\"\n",
    "elif( exp >4 and exp <= 8):\n",
    "    print \"salary : 12.6 Lac\"\n",
    "elif( exp >8 and exp <= 15):\n",
    "    print \"salary : 25 Lac\"\n",
    "elif(exp >15):\n",
    "    print \"salary : 50 lac\"\n",
    "else:\n",
    "    print \"Enter proper experience \""
   ]
  },
  {
   "cell_type": "code",
   "execution_count": null,
   "metadata": {},
   "outputs": [],
   "source": [
    "# wap for grading system based on student percentage\n",
    "# wap for increment in  salary in percentage based your exp"
   ]
  },
  {
   "cell_type": "code",
   "execution_count": 10,
   "metadata": {},
   "outputs": [
    {
     "name": "stdout",
     "output_type": "stream",
     "text": [
      "enter a : 89\n",
      "enter b : 45\n",
      "enter c : 78\n",
      "big :  89\n"
     ]
    }
   ],
   "source": [
    "# nested if \n",
    "'''\n",
    "one block which contains another block\n",
    "if ---> if , if & else , elif ladder\n",
    "elif --> if , if and else , elif ladder\n",
    "else --> if  , if and else , elifladdr\n",
    "'''\n",
    "# wap find the biggest number from 3 number \n",
    "a= input(\"enter a : \")\n",
    "b= input(\"enter b : \")\n",
    "c= input(\"enter c : \")\n",
    "if(a < b):\n",
    "    big = b\n",
    "    if(big < c):\n",
    "        big = c\n",
    "else:\n",
    "    big = a\n",
    "    if(big < c):\n",
    "        big = c\n",
    "print \"big : \", big"
   ]
  },
  {
   "cell_type": "code",
   "execution_count": 11,
   "metadata": {},
   "outputs": [
    {
     "name": "stdout",
     "output_type": "stream",
     "text": [
      "enter a : 78\n",
      "enter b : 89\n",
      "enter c : 56\n",
      "big :  89\n"
     ]
    }
   ],
   "source": [
    "# nested if \n",
    "'''\n",
    "one block which contains another block\n",
    "if ---> if , if & else , elif ladder\n",
    "elif --> if , if and else , elif ladder\n",
    "else --> if  , if and else , elifladdr\n",
    "'''\n",
    "# wap find the biggest number from 3 number \n",
    "a= input(\"enter a : \")\n",
    "b= input(\"enter b : \")\n",
    "c= input(\"enter c : \")\n",
    "if(a < b):\n",
    "    big = b\n",
    "    if(big < c):\n",
    "        big = c\n",
    "else:\n",
    "    big = a\n",
    "    if(big < c):\n",
    "        big = c\n",
    "print \"big : \", big"
   ]
  },
  {
   "cell_type": "code",
   "execution_count": null,
   "metadata": {},
   "outputs": [],
   "source": [
    "# wap find the smallest number from 3 numbers\n",
    "# wap find the leap year \n",
    "'''\n",
    "1900 ---> not leap \n",
    "2000 ---> leap\n",
    "2012 ---> leap\n",
    "2011 ---> not leap\n",
    "'''"
   ]
  }
 ],
 "metadata": {
  "kernelspec": {
   "display_name": "Python 2",
   "language": "python",
   "name": "python2"
  },
  "language_info": {
   "codemirror_mode": {
    "name": "ipython",
    "version": 2
   },
   "file_extension": ".py",
   "mimetype": "text/x-python",
   "name": "python",
   "nbconvert_exporter": "python",
   "pygments_lexer": "ipython2",
   "version": "2.7.16"
  }
 },
 "nbformat": 4,
 "nbformat_minor": 2
}
