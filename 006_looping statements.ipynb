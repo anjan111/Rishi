{
 "cells": [
  {
   "cell_type": "code",
   "execution_count": 2,
   "metadata": {},
   "outputs": [
    {
     "name": "stdout",
     "output_type": "stream",
     "text": [
      "enter last Number : 5\n",
      "1\n",
      "2\n",
      "3\n",
      "4\n",
      "5\n",
      "This is Optional Else block\n",
      "while condition is failed then else block can executed \n"
     ]
    }
   ],
   "source": [
    "# while \n",
    "# wap print 1 to 10/ 100/90  ( N -->> ?)\n",
    "N = input(\"enter last Number : \")\n",
    "i = 1\n",
    "while( i <= N):\n",
    "    print i\n",
    "    i  = i+1 \n",
    "else:\n",
    "    print \"This is Optional Else block\"\n",
    "    print \"while condition is failed then else block can executed \""
   ]
  },
  {
   "cell_type": "code",
   "execution_count": 3,
   "metadata": {},
   "outputs": [
    {
     "name": "stdout",
     "output_type": "stream",
     "text": [
      "enter last Number : 10\n",
      "1    2    3    4    5    6    7    8    9    10    \n",
      "This is Optional Else block\n",
      "while condition is failed then else block can executed \n"
     ]
    }
   ],
   "source": [
    "# while \n",
    "# wap print 1 to 10/ 100/90  ( N -->> ?)\n",
    "N = input(\"enter last Number : \")\n",
    "i = 1\n",
    "while( i <= N):\n",
    "    print i, \"  \",\n",
    "    i  = i+1 \n",
    "else:\n",
    "    print \"\\nThis is Optional Else block\"\n",
    "    print \"while condition is failed then else block can executed \""
   ]
  },
  {
   "cell_type": "code",
   "execution_count": 4,
   "metadata": {},
   "outputs": [
    {
     "name": "stdout",
     "output_type": "stream",
     "text": [
      "enter last Number : 5\n",
      "enter name : \"anjan\"\n",
      "enter phone : 9640987960\n",
      "email  : \"anjan@gmail.com\"\n",
      "Name  :  anjan\n",
      "phone :  9640987960\n",
      "mail  :  anjan@gmail.com\n",
      "Name  :  anjan\n",
      "phone :  9640987960\n",
      "mail  :  anjan@gmail.com\n",
      "Name  :  anjan\n",
      "phone :  9640987960\n",
      "mail  :  anjan@gmail.com\n",
      "Name  :  anjan\n",
      "phone :  9640987960\n",
      "mail  :  anjan@gmail.com\n",
      "Name  :  anjan\n",
      "phone :  9640987960\n",
      "mail  :  anjan@gmail.com\n",
      "\n",
      "This is Optional Else block\n",
      "while condition is failed then else block can executed \n"
     ]
    }
   ],
   "source": [
    "# wap print your details 10 times  ( name , phone , mailid )\n",
    "N = input(\"enter last Number : \")\n",
    "i = 1\n",
    "name  = input(\"enter name : \")\n",
    "phone = input(\"enter phone : \")\n",
    "mail = input(\"email  : \")\n",
    "while( i <= N):\n",
    "    print \"Name  : \", name\n",
    "    print \"phone : \", phone\n",
    "    print \"mail  : \",mail\n",
    "    i  = i+1 \n",
    "else:\n",
    "    print \"\\nThis is Optional Else block\"\n",
    "    print \"while condition is failed then else block can executed \""
   ]
  },
  {
   "cell_type": "code",
   "execution_count": 6,
   "metadata": {},
   "outputs": [
    {
     "name": "stdout",
     "output_type": "stream",
     "text": [
      "enter num : 10\n",
      "factor :  1\n",
      "factor :  2\n",
      "factor :  5\n",
      "factor :  10\n",
      "no of factors :  4\n"
     ]
    }
   ],
   "source": [
    "# wap find the no of factors of number  and display them\n",
    "# 10  ---->>> 1 , 2 ,  5, 10 ----->> 4\n",
    "# 13  ---->>> 1,13 --------------->> 2\n",
    "num = input(\"enter num : \")\n",
    "i = 1\n",
    "f_c =0\n",
    "while(i <= num):\n",
    "    if(num % i == 0):\n",
    "        print \"factor : \",i\n",
    "        f_c = f_c + 1\n",
    "    i = i +1\n",
    "else:\n",
    "    print \"no of factors : \",f_c"
   ]
  },
  {
   "cell_type": "code",
   "execution_count": null,
   "metadata": {},
   "outputs": [],
   "source": [
    "# wap find the given number prime or not \n",
    "'''\n",
    "-ve,0,1  ---> please provide more or equal to 2\n",
    "non int  -->> plsease provide int datatype\n",
    "\n",
    "'''\n",
    "# wap find the factorial of a number \n",
    "'''\n",
    "==>  -ve numbers  ---> please provide the negative number\n",
    "==>  0 , 1  ------->> factorial is 1\n",
    "==>  5  -------->>  5! ==> 120\n",
    "'''\n",
    "# wap print 1st 10  fibonic series  elements\n",
    "'''\n",
    "1    1     2     3     5    8    13    21    34    55\n",
    "'''"
   ]
  },
  {
   "cell_type": "code",
   "execution_count": 1,
   "metadata": {},
   "outputs": [
    {
     "name": "stdout",
     "output_type": "stream",
     "text": [
      "[0, 1, 2, 3, 4, 5, 6, 7, 8, 9]\n",
      "[0, 1, 2, 3, 4, 5, 6, 7, 8, 9, 10, 11, 12, 13]\n"
     ]
    }
   ],
   "source": [
    "# range(10)---->> list of elements \n",
    "print range(10) # 0 to 9\n",
    "print range(14 )# 0 to 13"
   ]
  },
  {
   "cell_type": "code",
   "execution_count": 2,
   "metadata": {},
   "outputs": [
    {
     "name": "stdout",
     "output_type": "stream",
     "text": [
      "[2, 3, 4, 5, 6, 7, 8, 9]\n",
      "[5, 6, 7, 8, 9, 10, 11, 12, 13]\n"
     ]
    }
   ],
   "source": [
    "print range(2,10) # 2 to 9\n",
    "print range(5,14 )# 5 to 13"
   ]
  },
  {
   "cell_type": "code",
   "execution_count": 3,
   "metadata": {},
   "outputs": [
    {
     "name": "stdout",
     "output_type": "stream",
     "text": [
      "[2, 5, 8, 11, 14, 17, 20]\n",
      "[5, 8, 11]\n"
     ]
    }
   ],
   "source": [
    "print range(2,23,3) # 2 ,5,8,11,14,17,20\n",
    "print range(5,14,3 )# 5 ,8,11"
   ]
  },
  {
   "cell_type": "code",
   "execution_count": 4,
   "metadata": {},
   "outputs": [
    {
     "name": "stdout",
     "output_type": "stream",
     "text": [
      "enter list elements : [34,89,12,90,23]\n",
      "34\n",
      "89\n",
      "12\n",
      "90\n",
      "23\n",
      "no more updates \n",
      "Task over\n"
     ]
    }
   ],
   "source": [
    "# wap print print list element\n",
    "list = input(\"enter list elements : \")\n",
    "for ele in list : \n",
    "    print ele\n",
    "else:\n",
    "    print \"no more updates \"\n",
    "print \"Task over\"\n"
   ]
  },
  {
   "cell_type": "code",
   "execution_count": 5,
   "metadata": {},
   "outputs": [
    {
     "name": "stdout",
     "output_type": "stream",
     "text": [
      "enter tuple : (12,99,23,8,21,20)\n",
      "even :  12\n",
      "even :  8\n",
      "even :  20\n",
      "All updates over\n",
      "Task over\n"
     ]
    }
   ],
   "source": [
    "# wap print only even number from the tuple \n",
    "tuple = input(\"enter tuple : \")\n",
    "for ele in tuple :\n",
    "    if(ele % 2 == 0):\n",
    "        print \"even : \",ele\n",
    "else:\n",
    "    print \"All updates over\"\n",
    "print \"Task over\""
   ]
  },
  {
   "cell_type": "code",
   "execution_count": null,
   "metadata": {},
   "outputs": [],
   "source": [
    "#[] ---> list\n",
    "#() ---> tuple\n",
    "#{k1,k2,k3} ---> set\n",
    "#\"\"-->> str\n",
    "#{k1:v1 , k2:v2}--->dict"
   ]
  },
  {
   "cell_type": "code",
   "execution_count": 12,
   "metadata": {},
   "outputs": [
    {
     "name": "stdout",
     "output_type": "stream",
     "text": [
      "enter num : [12,4]\n",
      "please provide only int data\n"
     ]
    }
   ],
   "source": [
    "# wap find the given number prime or not \n",
    "'''\n",
    "-ve,0,1  ---> please provide more or equal to 2\n",
    "non int  -->> plsease provide int datatype\n",
    "\n",
    "'''\n",
    "num = input(\"enter num : \")\n",
    "f_c =0\n",
    "\n",
    "if(isinstance(num,int)):\n",
    "    if(num >= 2):\n",
    "        for var in range(1,num+1):\n",
    "            if(num % var == 0):\n",
    "                f_c += 1\n",
    "        else:\n",
    "            if(f_c == 2):\n",
    "                print num,\" its prime\"\n",
    "            else:\n",
    "                print num,\" its not a prime\"\n",
    "    else:\n",
    "        print \"plese provide more than or equal 2\"\n",
    "else:\n",
    "    print \"please provide only int data\"\n",
    "    \n",
    "    \n",
    "    \n"
   ]
  },
  {
   "cell_type": "code",
   "execution_count": null,
   "metadata": {},
   "outputs": [],
   "source": []
  },
  {
   "cell_type": "code",
   "execution_count": 17,
   "metadata": {},
   "outputs": [
    {
     "name": "stdout",
     "output_type": "stream",
     "text": [
      "enter num : [12,3]\n",
      "please provide only int data\n"
     ]
    }
   ],
   "source": [
    "# wap find the factorial of a number \n",
    "'''\n",
    "==>  -ve numbers  ---> please provide the negative number\n",
    "==>  0 , 1  ------->> factorial is 1\n",
    "==>  5  -------->>  5! ==> 120\n",
    "'''\n",
    "num = input(\"enter num : \")\n",
    "if(isinstance(num,int)):\n",
    "    if(num >= 0):\n",
    "        fact = 1\n",
    "        for var in range(2,num+1):\n",
    "            fact = fact * var\n",
    "        else:\n",
    "            print \"factorial of \",num,\" is \",fact\n",
    "    else:\n",
    "        print \"plese provide more than or equal 0\"\n",
    "else:\n",
    "    print \"please provide only int data\"\n",
    "    \n",
    "    \n"
   ]
  },
  {
   "cell_type": "code",
   "execution_count": 1,
   "metadata": {},
   "outputs": [
    {
     "name": "stdout",
     "output_type": "stream",
     "text": [
      "enter no of elements : 10\n",
      "1     1     2     3     5     8     13     21     34     55     \n",
      "This is fibonic series\n"
     ]
    }
   ],
   "source": [
    "# wap print 1st 10  fibonic series  elements\n",
    "'''\n",
    "1    1     2     3     5    8    13    21    34    55\n",
    "'''\n",
    "num = input(\"enter no of elements : \")\n",
    "a = 1\n",
    "b = 1\n",
    "for ele in range(num):\n",
    "    print a,\"   \",\n",
    "    c = a+b\n",
    "    a = b\n",
    "    b = c\n",
    "else:\n",
    "    print \"\\nThis is fibonic series\""
   ]
  },
  {
   "cell_type": "code",
   "execution_count": 2,
   "metadata": {},
   "outputs": [
    {
     "ename": "IndentationError",
     "evalue": "expected an indented block (<ipython-input-2-9ef652c59e52>, line 6)",
     "output_type": "error",
     "traceback": [
      "\u001b[1;36m  File \u001b[1;32m\"<ipython-input-2-9ef652c59e52>\"\u001b[1;36m, line \u001b[1;32m6\u001b[0m\n\u001b[1;33m    \u001b[0m\n\u001b[1;37m    ^\u001b[0m\n\u001b[1;31mIndentationError\u001b[0m\u001b[1;31m:\u001b[0m expected an indented block\n"
     ]
    }
   ],
   "source": [
    "# control Keywords\n",
    "'''\n",
    "--->> pass  --> will used for to create empty blocks\n",
    "'''\n",
    "if (10 < 20):\n",
    "    "
   ]
  },
  {
   "cell_type": "code",
   "execution_count": 3,
   "metadata": {},
   "outputs": [],
   "source": [
    "if (10 < 20):\n",
    "    pass\n",
    "elif(34 < 34):\n",
    "    pass\n",
    "else:\n",
    "    pass\n",
    "while(False):\n",
    "    pass\n",
    "for i in range(10):\n",
    "    pass"
   ]
  },
  {
   "cell_type": "code",
   "execution_count": 5,
   "metadata": {},
   "outputs": [
    {
     "name": "stdout",
     "output_type": "stream",
     "text": [
      "hello\n",
      "hello\n",
      "hello\n",
      "hello\n",
      "hello\n",
      "hello\n",
      "hello\n",
      "hello\n",
      "hello\n",
      "hello\n"
     ]
    }
   ],
   "source": [
    "# print hello time for each print wait some time\n",
    "for i  in range(10):\n",
    "    print \"hello\"\n",
    "    for ele in range(10000000):\n",
    "        pass\n",
    "    "
   ]
  },
  {
   "cell_type": "code",
   "execution_count": 7,
   "metadata": {},
   "outputs": [
    {
     "name": "stdout",
     "output_type": "stream",
     "text": [
      "1\n",
      "2\n",
      "4\n",
      "5\n",
      "6\n",
      "8\n",
      "9\n",
      "10\n"
     ]
    }
   ],
   "source": [
    "# continue \n",
    "'''\n",
    "-->to skip the specific iteration and continue rest of iteration\n",
    "'''\n",
    "# wap print 1 to 10 except 3 and 7\n",
    "i = 0\n",
    "while(i < 10):\n",
    "    i = i + 1\n",
    "    if( i == 3 or i == 7):\n",
    "        continue\n",
    "    print i"
   ]
  },
  {
   "cell_type": "code",
   "execution_count": 8,
   "metadata": {},
   "outputs": [
    {
     "name": "stdout",
     "output_type": "stream",
     "text": [
      "1\n",
      "2\n",
      "3\n",
      "4\n"
     ]
    }
   ],
   "source": [
    "# break\n",
    "'''\n",
    "to terminate the loop\n",
    "'''\n",
    "# wap print 1 to 10 but stop at 5\n",
    "i = 0\n",
    "while(i <10):\n",
    "    i = i+ 1\n",
    "    if( i == 5):\n",
    "        break\n",
    "    print i\n",
    "else:\n",
    "    print \"when while condition failed\""
   ]
  },
  {
   "cell_type": "code",
   "execution_count": 9,
   "metadata": {},
   "outputs": [
    {
     "name": "stdout",
     "output_type": "stream",
     "text": [
      "enter num : 5\n",
      "5  is a prime\n"
     ]
    }
   ],
   "source": [
    "# wap print given number is prime or not using break\n",
    "num = input(\"enter num : \")\n",
    "i = 2\n",
    "while(i < num):\n",
    "    if(num % i == 0):\n",
    "        print num,\"is not a prime\"\n",
    "        break\n",
    "    i = i +  1\n",
    "else:\n",
    "    print num,\" is a prime\""
   ]
  },
  {
   "cell_type": "code",
   "execution_count": 10,
   "metadata": {},
   "outputs": [
    {
     "name": "stdout",
     "output_type": "stream",
     "text": [
      "enter num : 10\n",
      "10 is not a prime\n"
     ]
    }
   ],
   "source": [
    "# wap print given number is prime or not using break\n",
    "num = input(\"enter num : \")\n",
    "i = 2\n",
    "while(i < num):\n",
    "    if(num % i == 0):\n",
    "        print num,\"is not a prime\"\n",
    "        break\n",
    "    i = i +  1\n",
    "else:\n",
    "    print num,\" is a prime\""
   ]
  },
  {
   "cell_type": "code",
   "execution_count": 13,
   "metadata": {},
   "outputs": [
    {
     "name": "stdout",
     "output_type": "stream",
     "text": [
      "*    *    *    *    \n",
      "*    *    *    *    \n",
      "*    *    *    *    \n",
      "*    *    *    *    \n",
      "*    *    *    *    \n"
     ]
    }
   ],
   "source": [
    "# nested loops \n",
    "'''\n",
    "*   *   *   *\n",
    "*   *   *   *\n",
    "*   *   *   *\n",
    "*   *   *   *\n",
    "*   *   *   *\n",
    "'''\n",
    "for i in range(5):\n",
    "    for j in range(4):\n",
    "        print \"*   \",\n",
    "    print \"\""
   ]
  },
  {
   "cell_type": "code",
   "execution_count": null,
   "metadata": {},
   "outputs": [],
   "source": [
    "'''\n",
    "1    2    3    4\n",
    "1    2    3    4\n",
    "1    2    3    4\n",
    "1    2    3    4\n",
    "1    2    3    4\n",
    "'''"
   ]
  },
  {
   "cell_type": "code",
   "execution_count": null,
   "metadata": {},
   "outputs": [],
   "source": [
    "'''\n",
    "1     1     1     1\n",
    "2     2     2     2\n",
    "3     3     3     3\n",
    "4     4     4     4\n",
    "5     5     5     5\n",
    "'''"
   ]
  },
  {
   "cell_type": "code",
   "execution_count": null,
   "metadata": {},
   "outputs": [],
   "source": [
    "'''\n",
    "2   3     4    5\n",
    "3   4     5    6\n",
    "4   5     6    7\n",
    "5   6     7    8\n",
    "6   7     8    9\n",
    "\n",
    "'''"
   ]
  },
  {
   "cell_type": "code",
   "execution_count": 14,
   "metadata": {},
   "outputs": [
    {
     "name": "stdout",
     "output_type": "stream",
     "text": [
      "*    \n",
      "*    *    \n",
      "*    *    *    \n",
      "*    *    *    *    \n",
      "*    *    *    *    *    \n"
     ]
    }
   ],
   "source": [
    "'''\n",
    "*\n",
    "*   *\n",
    "*   *   *\n",
    "*   *   *   *\n",
    "*   *   *   *   *\n",
    "'''\n",
    "for i in range(1,6):\n",
    "    for j in range(0,i):\n",
    "        print \"*   \",\n",
    "    print \"\""
   ]
  },
  {
   "cell_type": "code",
   "execution_count": null,
   "metadata": {},
   "outputs": [],
   "source": []
  }
 ],
 "metadata": {
  "kernelspec": {
   "display_name": "Python 2",
   "language": "python",
   "name": "python2"
  },
  "language_info": {
   "codemirror_mode": {
    "name": "ipython",
    "version": 2
   },
   "file_extension": ".py",
   "mimetype": "text/x-python",
   "name": "python",
   "nbconvert_exporter": "python",
   "pygments_lexer": "ipython2",
   "version": "2.7.16"
  }
 },
 "nbformat": 4,
 "nbformat_minor": 2
}
