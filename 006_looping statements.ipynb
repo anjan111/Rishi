{
 "cells": [
  {
   "cell_type": "code",
   "execution_count": 2,
   "metadata": {},
   "outputs": [
    {
     "name": "stdout",
     "output_type": "stream",
     "text": [
      "enter last Number : 5\n",
      "1\n",
      "2\n",
      "3\n",
      "4\n",
      "5\n",
      "This is Optional Else block\n",
      "while condition is failed then else block can executed \n"
     ]
    }
   ],
   "source": [
    "# while \n",
    "# wap print 1 to 10/ 100/90  ( N -->> ?)\n",
    "N = input(\"enter last Number : \")\n",
    "i = 1\n",
    "while( i <= N):\n",
    "    print i\n",
    "    i  = i+1 \n",
    "else:\n",
    "    print \"This is Optional Else block\"\n",
    "    print \"while condition is failed then else block can executed \""
   ]
  },
  {
   "cell_type": "code",
   "execution_count": 3,
   "metadata": {},
   "outputs": [
    {
     "name": "stdout",
     "output_type": "stream",
     "text": [
      "enter last Number : 10\n",
      "1    2    3    4    5    6    7    8    9    10    \n",
      "This is Optional Else block\n",
      "while condition is failed then else block can executed \n"
     ]
    }
   ],
   "source": [
    "# while \n",
    "# wap print 1 to 10/ 100/90  ( N -->> ?)\n",
    "N = input(\"enter last Number : \")\n",
    "i = 1\n",
    "while( i <= N):\n",
    "    print i, \"  \",\n",
    "    i  = i+1 \n",
    "else:\n",
    "    print \"\\nThis is Optional Else block\"\n",
    "    print \"while condition is failed then else block can executed \""
   ]
  },
  {
   "cell_type": "code",
   "execution_count": 4,
   "metadata": {},
   "outputs": [
    {
     "name": "stdout",
     "output_type": "stream",
     "text": [
      "enter last Number : 5\n",
      "enter name : \"anjan\"\n",
      "enter phone : 9640987960\n",
      "email  : \"anjan@gmail.com\"\n",
      "Name  :  anjan\n",
      "phone :  9640987960\n",
      "mail  :  anjan@gmail.com\n",
      "Name  :  anjan\n",
      "phone :  9640987960\n",
      "mail  :  anjan@gmail.com\n",
      "Name  :  anjan\n",
      "phone :  9640987960\n",
      "mail  :  anjan@gmail.com\n",
      "Name  :  anjan\n",
      "phone :  9640987960\n",
      "mail  :  anjan@gmail.com\n",
      "Name  :  anjan\n",
      "phone :  9640987960\n",
      "mail  :  anjan@gmail.com\n",
      "\n",
      "This is Optional Else block\n",
      "while condition is failed then else block can executed \n"
     ]
    }
   ],
   "source": [
    "# wap print your details 10 times  ( name , phone , mailid )\n",
    "N = input(\"enter last Number : \")\n",
    "i = 1\n",
    "name  = input(\"enter name : \")\n",
    "phone = input(\"enter phone : \")\n",
    "mail = input(\"email  : \")\n",
    "while( i <= N):\n",
    "    print \"Name  : \", name\n",
    "    print \"phone : \", phone\n",
    "    print \"mail  : \",mail\n",
    "    i  = i+1 \n",
    "else:\n",
    "    print \"\\nThis is Optional Else block\"\n",
    "    print \"while condition is failed then else block can executed \""
   ]
  },
  {
   "cell_type": "code",
   "execution_count": 6,
   "metadata": {},
   "outputs": [
    {
     "name": "stdout",
     "output_type": "stream",
     "text": [
      "enter num : 10\n",
      "factor :  1\n",
      "factor :  2\n",
      "factor :  5\n",
      "factor :  10\n",
      "no of factors :  4\n"
     ]
    }
   ],
   "source": [
    "# wap find the no of factors of number  and display them\n",
    "# 10  ---->>> 1 , 2 ,  5, 10 ----->> 4\n",
    "# 13  ---->>> 1,13 --------------->> 2\n",
    "num = input(\"enter num : \")\n",
    "i = 1\n",
    "f_c =0\n",
    "while(i <= num):\n",
    "    if(num % i == 0):\n",
    "        print \"factor : \",i\n",
    "        f_c = f_c + 1\n",
    "    i = i +1\n",
    "else:\n",
    "    print \"no of factors : \",f_c"
   ]
  },
  {
   "cell_type": "code",
   "execution_count": null,
   "metadata": {},
   "outputs": [],
   "source": [
    "# wap find the given number prime or not \n",
    "'''\n",
    "-ve,0,1  ---> please provide more or equal to 2\n",
    "non int  -->> plsease provide int datatype\n",
    "\n",
    "'''\n",
    "# wap find the factorial of a number \n",
    "'''\n",
    "==>  -ve numbers  ---> please provide the negative number\n",
    "==>  0 , 1  ------->> factorial is 1\n",
    "==>  5  -------->>  5! ==> 120\n",
    "'''\n",
    "# wap print 1st 10  fibonic series  elements\n",
    "'''\n",
    "1    1     2     3     5    8    13    21    34    55\n",
    "'''"
   ]
  }
 ],
 "metadata": {
  "kernelspec": {
   "display_name": "Python 2",
   "language": "python",
   "name": "python2"
  },
  "language_info": {
   "codemirror_mode": {
    "name": "ipython",
    "version": 2
   },
   "file_extension": ".py",
   "mimetype": "text/x-python",
   "name": "python",
   "nbconvert_exporter": "python",
   "pygments_lexer": "ipython2",
   "version": "2.7.16"
  }
 },
 "nbformat": 4,
 "nbformat_minor": 2
}
