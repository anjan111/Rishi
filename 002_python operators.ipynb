{
 "cells": [
  {
   "cell_type": "code",
   "execution_count": 2,
   "metadata": {},
   "outputs": [
    {
     "name": "stdout",
     "output_type": "stream",
     "text": [
      "enter int 29\n",
      "enter int 3\n",
      "29  +  3  ===>  32\n",
      "29  -  3  ===>  26\n",
      "29  *  3  ===>  87\n",
      "29  /  3  ===>  9\n",
      "29  %  3  ===>  2\n"
     ]
    }
   ],
   "source": [
    "# Operators\n",
    "'''\n",
    "===>> which are used for to do some operations \n",
    "\n",
    "'''\n",
    "# 1. arithmetic operators\n",
    "\n",
    "a = input(\"enter int \")\n",
    "b = input(\"enter int \")\n",
    "\n",
    "print a,\" + \", b,\" ===> \",a+b\n",
    "print a,\" - \", b,\" ===> \",a-b\n",
    "print a,\" * \", b,\" ===> \",a*b\n",
    "print a,\" / \", b,\" ===> \",a/b\n",
    "print a,\" % \", b,\" ===> \",a%b\n",
    "\n",
    "# if you  couldn't hear me  , please restart your pc"
   ]
  },
  {
   "cell_type": "code",
   "execution_count": 3,
   "metadata": {},
   "outputs": [
    {
     "name": "stdout",
     "output_type": "stream",
     "text": [
      "enter float 29.0\n",
      "enter float 3.0\n",
      "29.0  +  3.0  ===>  32.0\n",
      "29.0  -  3.0  ===>  26.0\n",
      "29.0  *  3.0  ===>  87.0\n",
      "29.0  /  3.0  ===>  9.66666666667\n",
      "29.0  %  3.0  ===>  2.0\n"
     ]
    }
   ],
   "source": [
    "# 1. arithmetic operators\n",
    "\n",
    "a = input(\"enter float \")\n",
    "b = input(\"enter float \")\n",
    "\n",
    "print a,\" + \", b,\" ===> \",a+b\n",
    "print a,\" - \", b,\" ===> \",a-b\n",
    "print a,\" * \", b,\" ===> \",a*b\n",
    "print a,\" / \", b,\" ===> \",a/b\n",
    "print a,\" % \", b,\" ===> \",a%b\n",
    "\n",
    "# if you  couldn't hear me  , please restart your pc"
   ]
  },
  {
   "cell_type": "code",
   "execution_count": 5,
   "metadata": {},
   "outputs": [
    {
     "name": "stdout",
     "output_type": "stream",
     "text": [
      "4\n",
      "4\n"
     ]
    }
   ],
   "source": [
    "#### floor division   /\n",
    "print 13/3 # int\n",
    "print 13//3# int\n"
   ]
  },
  {
   "cell_type": "code",
   "execution_count": 6,
   "metadata": {},
   "outputs": [
    {
     "name": "stdout",
     "output_type": "stream",
     "text": [
      "4.33333333333\n",
      "4.0\n"
     ]
    }
   ],
   "source": [
    "print 13.0/3 # float\n",
    "print 13.0//3# float\n"
   ]
  },
  {
   "cell_type": "code",
   "execution_count": 8,
   "metadata": {},
   "outputs": [
    {
     "name": "stdout",
     "output_type": "stream",
     "text": [
      "32\n",
      "262144\n",
      "262144\n"
     ]
    }
   ],
   "source": [
    "## exponant  --->> a power of b  --->>  a ** b\n",
    "print 2 ** 5 # 32\n",
    "print 8 ** 6 #\n",
    "print 8*8*8*8*8*8"
   ]
  },
  {
   "cell_type": "code",
   "execution_count": 9,
   "metadata": {},
   "outputs": [
    {
     "name": "stdout",
     "output_type": "stream",
     "text": [
      "enter a : 12\n",
      "enter b : 6\n",
      "enter c : 14\n",
      "area :  35.77708764\n"
     ]
    }
   ],
   "source": [
    "# wap find the area of triangle\n",
    "a = input(\"enter a : \")\n",
    "b = input(\"enter b : \")\n",
    "c = input(\"enter c : \")\n",
    "\n",
    "S = ( a+b+c)/2.0\n",
    "area = (S*(S-a)*(S-b)*(S-c)) ** 0.5\n",
    "print \"area : \",area"
   ]
  },
  {
   "cell_type": "code",
   "execution_count": null,
   "metadata": {},
   "outputs": [],
   "source": [
    "##### wap find the area of circle & perimeter\n",
    "#### wap find the area and perimert rectangle\n",
    "#### wap find  the area and perimter of square"
   ]
  },
  {
   "cell_type": "code",
   "execution_count": 10,
   "metadata": {},
   "outputs": [
    {
     "name": "stdout",
     "output_type": "stream",
     "text": [
      "enter a : 56\n",
      "enter b : 23\n",
      "56  <  23 ====>>  False\n",
      "56  >  23 ====>>  True\n",
      "56  ==  23 ====>>  False\n",
      "56  !=  23 ====>>  True\n",
      "56  <=  23 ====>>  False\n",
      "56  >=  23 ====>>  True\n"
     ]
    }
   ],
   "source": [
    "# relational Operators\n",
    "'''\n",
    "==>> to compare\n",
    "'''\n",
    "a = input(\"enter a : \")\n",
    "b = input(\"enter b : \")\n",
    "print a,\" < \",b,\"====>> \",a < b\n",
    "print a,\" > \",b,\"====>> \",a > b\n",
    "print a,\" == \",b,\"====>> \",a == b\n",
    "print a,\" != \",b,\"====>> \",a != b\n",
    "print a,\" <= \",b,\"====>> \",a <= b\n",
    "print a,\" >= \",b,\"====>> \",a >= b"
   ]
  },
  {
   "cell_type": "code",
   "execution_count": 12,
   "metadata": {},
   "outputs": [
    {
     "name": "stdout",
     "output_type": "stream",
     "text": [
      "enter number : 48\n",
      "48  is even :  True\n"
     ]
    }
   ],
   "source": [
    "# wap find the given number is even or not\n",
    "\n",
    "num = input(\"enter number : \")\n",
    "rem = num %2\n",
    "print num,\" is even : \", rem == 0"
   ]
  },
  {
   "cell_type": "code",
   "execution_count": 13,
   "metadata": {},
   "outputs": [
    {
     "name": "stdout",
     "output_type": "stream",
     "text": [
      "enter number : 45\n",
      "45  is odd :  True\n"
     ]
    }
   ],
   "source": [
    "# wap find the given number is odd or not\n",
    "\n",
    "num = input(\"enter number : \")\n",
    "rem = num %2\n",
    "print num,\" is odd : \", rem != 0"
   ]
  },
  {
   "cell_type": "code",
   "execution_count": null,
   "metadata": {},
   "outputs": [],
   "source": []
  }
 ],
 "metadata": {
  "kernelspec": {
   "display_name": "Python 2",
   "language": "python",
   "name": "python2"
  },
  "language_info": {
   "codemirror_mode": {
    "name": "ipython",
    "version": 2
   },
   "file_extension": ".py",
   "mimetype": "text/x-python",
   "name": "python",
   "nbconvert_exporter": "python",
   "pygments_lexer": "ipython2",
   "version": "2.7.16"
  }
 },
 "nbformat": 4,
 "nbformat_minor": 2
}
